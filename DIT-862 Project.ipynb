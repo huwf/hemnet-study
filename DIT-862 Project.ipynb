{
 "cells": [
  {
   "cell_type": "code",
   "execution_count": 1,
   "id": "cab0330a",
   "metadata": {},
   "outputs": [],
   "source": [
    "# Import all the things\n",
    "\n",
    "%matplotlib inline\n",
    "import math\n",
    "\n",
    "from datetime import datetime\n",
    "import json\n",
    "import matplotlib.pyplot as plt\n",
    "import seaborn as sns\n",
    "import pandas as pd\n",
    "import numpy as np\n",
    "import scipy.stats as stats\n",
    "from sqlalchemy import create_engine\n",
    "plt.style.use('seaborn-darkgrid')\n",
    "import pyproj\n",
    "import turfpy\n",
    "from turfpy.measurement import boolean_point_in_polygon\n",
    "from geojson import Point, Polygon, MultiPolygon, Feature, FeatureCollection\n",
    "from statsmodels.graphics.gofplots import qqplot_2samples, qqplot\n",
    "\n",
    "from sklearn.linear_model import LinearRegression\n",
    "from sklearn.feature_selection import SelectKBest, f_regression,  mutual_info_regression, chi2\n",
    "from sklearn.model_selection import train_test_split\n",
    "from sklearn.ensemble import RandomForestRegressor\n",
    "from sklearn.model_selection import GridSearchCV\n",
    "from sklearn.metrics import mean_squared_error, mean_absolute_error\n",
    "\n",
    "from pyproj import Proj\n",
    "from pyproj import CRS, Transformer\n",
    "\n",
    "# For displaying LaTeX when outputting \n",
    "from IPython.display import display, Markdown\n"
   ]
  },
  {
   "cell_type": "markdown",
   "id": "0883caba",
   "metadata": {},
   "source": [
    "# DIT-862 project 2021\n",
    "\n",
    "# Problem definition and motivation\n",
    "\n",
    "This is an investigation into factors affecting the housing market in Gothenburg and Mölndal municipalities, based on data collected in Q4 2021. In particular, the presence or absence of several features will be confirmed as to their significance in determination of an apartment's value, such as the floor of an apartment is on in a building, or the monthly fee to the tenancy association.  Those buying an apartment for the first time in Sweden are operating in an environment with limited data and have to rely on intuition concerning the actual value, as much historical data concerning apartments is no longer available once a purchase is completed.  The project definition may be therefore be stated as being:\n",
    "\n",
    "*This project uses a dataset of historical apartment purchases from hemnet.se to assist first time buyers with limited information predict the true value of a property in Gothenburg and Mölndal municipalities based on different characteristics of the property*\n",
    "\n",
    "# Data specification\n",
    "\n",
    "The data were retrieved from the website https://hemnet.se, which is a popular website advertising property in Sweden.  Unfortunately there is no API, so it was necessary to use page scraping.  Prior to commencing this, robots.txt was checked, and there were no restrictions - only a suggestion to send them a speculative job application.  The content of the robots file is below:\n",
    "\n",
    "    # Kul att du hittat hit!\n",
    "    # Vill du också jobba på en av Sveriges största sajter med miljontals unika besökare?\n",
    "    # Gör en spontanansökan på https://career.hemnet.se/\n",
    "\n",
    "    User-agent: *\n",
    "\n",
    "    Sitemap: https://www.hemnet.se/sitemap.xml\n",
    "\n",
    "However, out of courtesy a gap of 5 seconds was maintained between each request, and the application was implemented with only a single thread so as to minimise load.\n",
    "\n",
    "The data was restricted to apartments (bostadsrätt) in Gothenburg and Mölndal municipalities. It would be possible to obtain additional data by querying each part of the city separately (so the maximum of 50 pages of results would have fewer properties and go back further before exhausting the results).  However, this was deemed unnecessary, and it would additionally complicate analysis as the values of properties change over time.  Within Q4 2021 there was no real change, so no compensation was required for the figures.\n",
    "\n",
    "Given the range of house prices, these data were supplemented with additional data from the Swedish election authority which has the country divided into quite granular areas from the 2018 Swedish general election.  The data may be found https://data.val.se/val/val2018/statistik/2018_valgeografi_valdistrikt.zip.\n",
    "\n",
    "These data were converted from GIS format to GeoJSON using an open source tool, and the voting region for each property was determined.  We can expect that the average prices for each voting area will vary considerably across the city."
   ]
  },
  {
   "cell_type": "markdown",
   "id": "f74eb079",
   "metadata": {},
   "source": [
    "# Data preparation and setup\n",
    "\n",
    "## Data preparation \n",
    "\n",
    "The interested reader can use the file `Data preparation.ipynb` for the process of aggregating the two datasets, and loading into a CSV file.  This notebook continues assuming that the previous notebook has already been run."
   ]
  },
  {
   "cell_type": "markdown",
   "id": "dbcf8ee2",
   "metadata": {},
   "source": [
    "## Data setup\n",
    "\n",
    "The following table provides an overview of the uncleaned data."
   ]
  },
  {
   "cell_type": "code",
   "execution_count": 2,
   "id": "9be07594",
   "metadata": {},
   "outputs": [
    {
     "data": {
      "text/html": [
       "<div>\n",
       "<style scoped>\n",
       "    .dataframe tbody tr th:only-of-type {\n",
       "        vertical-align: middle;\n",
       "    }\n",
       "\n",
       "    .dataframe tbody tr th {\n",
       "        vertical-align: top;\n",
       "    }\n",
       "\n",
       "    .dataframe thead th {\n",
       "        text-align: right;\n",
       "    }\n",
       "</style>\n",
       "<table border=\"1\" class=\"dataframe\">\n",
       "  <thead>\n",
       "    <tr style=\"text-align: right;\">\n",
       "      <th></th>\n",
       "      <th>id</th>\n",
       "      <th>address</th>\n",
       "      <th>sale_date</th>\n",
       "      <th>asked_price</th>\n",
       "      <th>sold_price</th>\n",
       "      <th>rooms</th>\n",
       "      <th>living_space</th>\n",
       "      <th>has_balcony</th>\n",
       "      <th>floor</th>\n",
       "      <th>avgift</th>\n",
       "      <th>driftskostnad</th>\n",
       "      <th>built</th>\n",
       "      <th>total_floors</th>\n",
       "      <th>has_lift</th>\n",
       "      <th>lat</th>\n",
       "      <th>lng</th>\n",
       "      <th>avgift_sqm</th>\n",
       "      <th>valdistrikt</th>\n",
       "    </tr>\n",
       "  </thead>\n",
       "  <tbody>\n",
       "    <tr>\n",
       "      <th>0</th>\n",
       "      <td>563</td>\n",
       "      <td>Eklanda Hage 145C</td>\n",
       "      <td>2020-12-30</td>\n",
       "      <td>4350000.0</td>\n",
       "      <td>4510000</td>\n",
       "      <td>5.0</td>\n",
       "      <td>116.0</td>\n",
       "      <td>NaN</td>\n",
       "      <td>NaN</td>\n",
       "      <td>6296.0</td>\n",
       "      <td>15456.0</td>\n",
       "      <td>1997-01-01</td>\n",
       "      <td>NaN</td>\n",
       "      <td>0</td>\n",
       "      <td>57.654146</td>\n",
       "      <td>11.963737</td>\n",
       "      <td>54.275862</td>\n",
       "      <td>Eklanda Västra</td>\n",
       "    </tr>\n",
       "    <tr>\n",
       "      <th>1</th>\n",
       "      <td>564</td>\n",
       "      <td>Högenvägen 23</td>\n",
       "      <td>2020-12-30</td>\n",
       "      <td>2595000.0</td>\n",
       "      <td>2800000</td>\n",
       "      <td>3.0</td>\n",
       "      <td>72.0</td>\n",
       "      <td>1.0</td>\n",
       "      <td>2.0</td>\n",
       "      <td>3735.0</td>\n",
       "      <td>7140.0</td>\n",
       "      <td>2100-01-01</td>\n",
       "      <td>2.0</td>\n",
       "      <td>0</td>\n",
       "      <td>57.607780</td>\n",
       "      <td>12.058046</td>\n",
       "      <td>51.875000</td>\n",
       "      <td>Brattås Södra</td>\n",
       "    </tr>\n",
       "    <tr>\n",
       "      <th>2</th>\n",
       "      <td>565</td>\n",
       "      <td>Frälsegårdsgatan 1 B</td>\n",
       "      <td>2020-12-29</td>\n",
       "      <td>1150000.0</td>\n",
       "      <td>2300000</td>\n",
       "      <td>2.0</td>\n",
       "      <td>54.0</td>\n",
       "      <td>NaN</td>\n",
       "      <td>2.0</td>\n",
       "      <td>2539.0</td>\n",
       "      <td>4980.0</td>\n",
       "      <td>1957-01-01</td>\n",
       "      <td>3.0</td>\n",
       "      <td>0</td>\n",
       "      <td>57.660761</td>\n",
       "      <td>12.001016</td>\n",
       "      <td>47.018519</td>\n",
       "      <td>Bosgården Södra</td>\n",
       "    </tr>\n",
       "    <tr>\n",
       "      <th>3</th>\n",
       "      <td>566</td>\n",
       "      <td>Toltorpsgatan 50 B</td>\n",
       "      <td>2020-12-29</td>\n",
       "      <td>900000.0</td>\n",
       "      <td>2000000</td>\n",
       "      <td>1.0</td>\n",
       "      <td>34.0</td>\n",
       "      <td>NaN</td>\n",
       "      <td>NaN</td>\n",
       "      <td>1781.0</td>\n",
       "      <td>NaN</td>\n",
       "      <td>2100-01-01</td>\n",
       "      <td>NaN</td>\n",
       "      <td>0</td>\n",
       "      <td>57.673123</td>\n",
       "      <td>11.978522</td>\n",
       "      <td>52.382353</td>\n",
       "      <td>Toltorp Norra</td>\n",
       "    </tr>\n",
       "    <tr>\n",
       "      <th>4</th>\n",
       "      <td>567</td>\n",
       "      <td>Broslättsgatan 36 lgh 1203</td>\n",
       "      <td>2020-12-23</td>\n",
       "      <td>3150000.0</td>\n",
       "      <td>3150000</td>\n",
       "      <td>2.0</td>\n",
       "      <td>54.0</td>\n",
       "      <td>1.0</td>\n",
       "      <td>2.0</td>\n",
       "      <td>3506.0</td>\n",
       "      <td>NaN</td>\n",
       "      <td>2100-01-01</td>\n",
       "      <td>2.0</td>\n",
       "      <td>1</td>\n",
       "      <td>57.654087</td>\n",
       "      <td>12.011442</td>\n",
       "      <td>64.925926</td>\n",
       "      <td>Broslätt Västra</td>\n",
       "    </tr>\n",
       "  </tbody>\n",
       "</table>\n",
       "</div>"
      ],
      "text/plain": [
       "    id                     address   sale_date  asked_price  sold_price  \\\n",
       "0  563           Eklanda Hage 145C  2020-12-30    4350000.0     4510000   \n",
       "1  564               Högenvägen 23  2020-12-30    2595000.0     2800000   \n",
       "2  565        Frälsegårdsgatan 1 B  2020-12-29    1150000.0     2300000   \n",
       "3  566          Toltorpsgatan 50 B  2020-12-29     900000.0     2000000   \n",
       "4  567  Broslättsgatan 36 lgh 1203  2020-12-23    3150000.0     3150000   \n",
       "\n",
       "   rooms  living_space  has_balcony  floor  avgift  driftskostnad       built  \\\n",
       "0    5.0         116.0          NaN    NaN  6296.0        15456.0  1997-01-01   \n",
       "1    3.0          72.0          1.0    2.0  3735.0         7140.0  2100-01-01   \n",
       "2    2.0          54.0          NaN    2.0  2539.0         4980.0  1957-01-01   \n",
       "3    1.0          34.0          NaN    NaN  1781.0            NaN  2100-01-01   \n",
       "4    2.0          54.0          1.0    2.0  3506.0            NaN  2100-01-01   \n",
       "\n",
       "   total_floors  has_lift        lat        lng  avgift_sqm      valdistrikt  \n",
       "0           NaN         0  57.654146  11.963737   54.275862   Eklanda Västra  \n",
       "1           2.0         0  57.607780  12.058046   51.875000    Brattås Södra  \n",
       "2           3.0         0  57.660761  12.001016   47.018519  Bosgården Södra  \n",
       "3           NaN         0  57.673123  11.978522   52.382353    Toltorp Norra  \n",
       "4           2.0         1  57.654087  12.011442   64.925926  Broslätt Västra  "
      ]
     },
     "execution_count": 2,
     "metadata": {},
     "output_type": "execute_result"
    }
   ],
   "source": [
    "data = pd.read_csv('data/data.csv')\n",
    "data.head()"
   ]
  },
  {
   "cell_type": "markdown",
   "id": "6f8fb518",
   "metadata": {},
   "source": [
    "### Missing data\n",
    "\n",
    "Not all data are present for all properties, so some effort was necessary to clean the dataset.  There were a total of 3104 rows, though as even the summary shows, and the count below, several rows contain fields which are either invalid or missing.  As the dataset is still quite large, missing rows will simply be dropped, though future work could seek to create improved fallbacks."
   ]
  },
  {
   "cell_type": "code",
   "execution_count": 3,
   "id": "6d28b48b",
   "metadata": {},
   "outputs": [
    {
     "data": {
      "text/plain": [
       "id               3104\n",
       "address          3104\n",
       "sale_date        3104\n",
       "asked_price      2865\n",
       "sold_price       3104\n",
       "rooms            3102\n",
       "living_space     3103\n",
       "has_balcony      1857\n",
       "floor            2558\n",
       "avgift           3103\n",
       "driftskostnad    2583\n",
       "built            3104\n",
       "total_floors     2278\n",
       "has_lift         3104\n",
       "lat              3104\n",
       "lng              3104\n",
       "avgift_sqm       3102\n",
       "valdistrikt      3104\n",
       "dtype: int64"
      ]
     },
     "execution_count": 3,
     "metadata": {},
     "output_type": "execute_result"
    }
   ],
   "source": [
    "data.count()"
   ]
  },
  {
   "cell_type": "code",
   "execution_count": 4,
   "id": "6831a728",
   "metadata": {},
   "outputs": [
    {
     "data": {
      "text/plain": [
       "id               2092\n",
       "address          2092\n",
       "sale_date        2092\n",
       "asked_price      1939\n",
       "sold_price       2092\n",
       "rooms            2092\n",
       "living_space     2092\n",
       "has_balcony      1447\n",
       "floor            2092\n",
       "avgift           2092\n",
       "driftskostnad    2092\n",
       "built            2092\n",
       "total_floors     1776\n",
       "has_lift         2092\n",
       "lat              2092\n",
       "lng              2092\n",
       "avgift_sqm       2092\n",
       "valdistrikt      2092\n",
       "dtype: int64"
      ]
     },
     "execution_count": 4,
     "metadata": {},
     "output_type": "execute_result"
    }
   ],
   "source": [
    "data = data[data.rooms.notnull()]\n",
    "data = data[data.avgift.notnull()]\n",
    "data.dropna(subset=['rooms', 'avgift', 'avgift_sqm', 'floor', 'driftskostnad'], inplace=True)\n",
    "data.count()"
   ]
  },
  {
   "cell_type": "markdown",
   "id": "7b4d52a3",
   "metadata": {},
   "source": [
    "### Cleaning invalid data\n",
    "\n"
   ]
  },
  {
   "cell_type": "markdown",
   "id": "448cd2b5",
   "metadata": {},
   "source": [
    "Some properties do not specify whether there is a lift in the building, or a balcony in that property.  As these are positive features for an apartment or building, it was assumed that if they are not specified the property does not have them.  As such, these defaulted to `False`."
   ]
  },
  {
   "cell_type": "code",
   "execution_count": 5,
   "id": "89eb5ad3",
   "metadata": {},
   "outputs": [
    {
     "data": {
      "text/plain": [
       "id               2092\n",
       "address          2092\n",
       "sale_date        2092\n",
       "asked_price      1939\n",
       "sold_price       2092\n",
       "rooms            2092\n",
       "living_space     2092\n",
       "has_balcony      2092\n",
       "floor            2092\n",
       "avgift           2092\n",
       "driftskostnad    2092\n",
       "built            2092\n",
       "total_floors     1776\n",
       "has_lift         2092\n",
       "lat              2092\n",
       "lng              2092\n",
       "avgift_sqm       2092\n",
       "valdistrikt      2092\n",
       "dtype: int64"
      ]
     },
     "execution_count": 5,
     "metadata": {},
     "output_type": "execute_result"
    }
   ],
   "source": [
    "data['has_balcony'] = data['has_balcony'].fillna(False)\n",
    "data['has_lift'] = data['has_lift'].fillna(False)\n",
    "data.count()"
   ]
  },
  {
   "cell_type": "markdown",
   "id": "0266823b",
   "metadata": {},
   "source": [
    "There were 19 rows of the built date which had the year 2100 to signify that the year was not specified.  These fields were also strings, so we convert them to datetime, and remove them.  When considering the overall aim of the tool, of advising people with limited information about an apartment, the year it was built is a key piece of information which should be held, so we assume that anyone buying an apartment will have this information or be able to ask for it."
   ]
  },
  {
   "cell_type": "code",
   "execution_count": 6,
   "id": "f0e42ef8",
   "metadata": {},
   "outputs": [],
   "source": [
    "data['built'] = pd.to_datetime(data['built'])\n",
    "data['built'] = data['built'].dt.year\n",
    "data = data.loc[data['built'] < 2100]\n",
    "# In some iterations of the data collection, unknown floors were set as -1 since no real floor would have that\n",
    "data = data.loc[data['floor'] > -1]"
   ]
  },
  {
   "cell_type": "markdown",
   "id": "68716d19",
   "metadata": {},
   "source": [
    "### Cost per square metre\n",
    "\n",
    "The `avgift_sqm` was already calculated, but it was also necessary to calculate other costs per square metre to get a more objective idea of values.\n",
    "\n",
    "For example, intuitively one would suspect that there is a necessary lower bound for getting an apartment building set up, after which the increased size would become less expensive for each additional square metre.  Therefore, the field `sold_price_sqm` was added.\n",
    "\n",
    "Similarly, the operating cost (`driftskostnad`) is an estimate of the amount of additional money which will need to be spent on the apartment aside from the items included in the monthly fee, for example electricity, home insurance, or parking.  If the monthly fee is a feature which affects the value of an apartment, the operating cost is likely to also be considered so - even though it is considerably smaller.  As such, an additional field of `cost_per_month` was added, which is the total of the monthly fee + annual operating costs.  In addition, the related field `cost_per_sqm` was added, so that the costs of an individual apartment could be seen regardless of the size."
   ]
  },
  {
   "cell_type": "code",
   "execution_count": 7,
   "id": "ad68ea37",
   "metadata": {},
   "outputs": [
    {
     "data": {
      "text/html": [
       "<div>\n",
       "<style scoped>\n",
       "    .dataframe tbody tr th:only-of-type {\n",
       "        vertical-align: middle;\n",
       "    }\n",
       "\n",
       "    .dataframe tbody tr th {\n",
       "        vertical-align: top;\n",
       "    }\n",
       "\n",
       "    .dataframe thead th {\n",
       "        text-align: right;\n",
       "    }\n",
       "</style>\n",
       "<table border=\"1\" class=\"dataframe\">\n",
       "  <thead>\n",
       "    <tr style=\"text-align: right;\">\n",
       "      <th></th>\n",
       "      <th>id</th>\n",
       "      <th>address</th>\n",
       "      <th>sale_date</th>\n",
       "      <th>asked_price</th>\n",
       "      <th>sold_price</th>\n",
       "      <th>rooms</th>\n",
       "      <th>living_space</th>\n",
       "      <th>has_balcony</th>\n",
       "      <th>floor</th>\n",
       "      <th>avgift</th>\n",
       "      <th>...</th>\n",
       "      <th>built</th>\n",
       "      <th>total_floors</th>\n",
       "      <th>has_lift</th>\n",
       "      <th>lat</th>\n",
       "      <th>lng</th>\n",
       "      <th>avgift_sqm</th>\n",
       "      <th>valdistrikt</th>\n",
       "      <th>sold_price_sqm</th>\n",
       "      <th>cost_per_month</th>\n",
       "      <th>cost_per_sqm</th>\n",
       "    </tr>\n",
       "  </thead>\n",
       "  <tbody>\n",
       "    <tr>\n",
       "      <th>2</th>\n",
       "      <td>565</td>\n",
       "      <td>Frälsegårdsgatan 1 B</td>\n",
       "      <td>2020-12-29</td>\n",
       "      <td>1150000.0</td>\n",
       "      <td>2300000</td>\n",
       "      <td>2.0</td>\n",
       "      <td>54.0</td>\n",
       "      <td>False</td>\n",
       "      <td>2.0</td>\n",
       "      <td>2539.0</td>\n",
       "      <td>...</td>\n",
       "      <td>1957</td>\n",
       "      <td>3.0</td>\n",
       "      <td>0</td>\n",
       "      <td>57.660761</td>\n",
       "      <td>12.001016</td>\n",
       "      <td>47.018519</td>\n",
       "      <td>Bosgården Södra</td>\n",
       "      <td>42592.592593</td>\n",
       "      <td>2954.0</td>\n",
       "      <td>54.703704</td>\n",
       "    </tr>\n",
       "    <tr>\n",
       "      <th>6</th>\n",
       "      <td>569</td>\n",
       "      <td>Häradsgatan 31</td>\n",
       "      <td>2020-12-22</td>\n",
       "      <td>2350000.0</td>\n",
       "      <td>2560000</td>\n",
       "      <td>2.0</td>\n",
       "      <td>57.0</td>\n",
       "      <td>1.0</td>\n",
       "      <td>3.0</td>\n",
       "      <td>3501.0</td>\n",
       "      <td>...</td>\n",
       "      <td>1957</td>\n",
       "      <td>7.0</td>\n",
       "      <td>1</td>\n",
       "      <td>57.662186</td>\n",
       "      <td>12.004269</td>\n",
       "      <td>61.421053</td>\n",
       "      <td>Bosgården Södra</td>\n",
       "      <td>44912.280702</td>\n",
       "      <td>3861.0</td>\n",
       "      <td>67.736842</td>\n",
       "    </tr>\n",
       "    <tr>\n",
       "      <th>7</th>\n",
       "      <td>570</td>\n",
       "      <td>Pinnharvsgatan 7E</td>\n",
       "      <td>2020-12-21</td>\n",
       "      <td>1850000.0</td>\n",
       "      <td>1850000</td>\n",
       "      <td>2.0</td>\n",
       "      <td>53.0</td>\n",
       "      <td>False</td>\n",
       "      <td>1.0</td>\n",
       "      <td>3622.0</td>\n",
       "      <td>...</td>\n",
       "      <td>1968</td>\n",
       "      <td>3.0</td>\n",
       "      <td>0</td>\n",
       "      <td>57.661414</td>\n",
       "      <td>11.992174</td>\n",
       "      <td>68.339623</td>\n",
       "      <td>Västerberg</td>\n",
       "      <td>34905.660377</td>\n",
       "      <td>3927.0</td>\n",
       "      <td>74.094340</td>\n",
       "    </tr>\n",
       "    <tr>\n",
       "      <th>8</th>\n",
       "      <td>571</td>\n",
       "      <td>Tvillinggatan 7 A</td>\n",
       "      <td>2020-12-18</td>\n",
       "      <td>2200000.0</td>\n",
       "      <td>2620000</td>\n",
       "      <td>3.0</td>\n",
       "      <td>66.0</td>\n",
       "      <td>1.0</td>\n",
       "      <td>2.0</td>\n",
       "      <td>2836.0</td>\n",
       "      <td>...</td>\n",
       "      <td>1960</td>\n",
       "      <td>3.0</td>\n",
       "      <td>0</td>\n",
       "      <td>57.657920</td>\n",
       "      <td>11.997192</td>\n",
       "      <td>42.969697</td>\n",
       "      <td>Fässberg Västra</td>\n",
       "      <td>39696.969697</td>\n",
       "      <td>3361.0</td>\n",
       "      <td>50.924242</td>\n",
       "    </tr>\n",
       "    <tr>\n",
       "      <th>9</th>\n",
       "      <td>572</td>\n",
       "      <td>Utsädesgatan 4 B</td>\n",
       "      <td>2020-12-17</td>\n",
       "      <td>2100000.0</td>\n",
       "      <td>2560000</td>\n",
       "      <td>3.0</td>\n",
       "      <td>77.0</td>\n",
       "      <td>1.0</td>\n",
       "      <td>1.0</td>\n",
       "      <td>4544.0</td>\n",
       "      <td>...</td>\n",
       "      <td>1970</td>\n",
       "      <td>3.0</td>\n",
       "      <td>0</td>\n",
       "      <td>57.660423</td>\n",
       "      <td>11.993615</td>\n",
       "      <td>59.012987</td>\n",
       "      <td>Västerberg</td>\n",
       "      <td>33246.753247</td>\n",
       "      <td>5034.0</td>\n",
       "      <td>65.376623</td>\n",
       "    </tr>\n",
       "  </tbody>\n",
       "</table>\n",
       "<p>5 rows × 21 columns</p>\n",
       "</div>"
      ],
      "text/plain": [
       "    id               address   sale_date  asked_price  sold_price  rooms  \\\n",
       "2  565  Frälsegårdsgatan 1 B  2020-12-29    1150000.0     2300000    2.0   \n",
       "6  569        Häradsgatan 31  2020-12-22    2350000.0     2560000    2.0   \n",
       "7  570     Pinnharvsgatan 7E  2020-12-21    1850000.0     1850000    2.0   \n",
       "8  571     Tvillinggatan 7 A  2020-12-18    2200000.0     2620000    3.0   \n",
       "9  572      Utsädesgatan 4 B  2020-12-17    2100000.0     2560000    3.0   \n",
       "\n",
       "   living_space has_balcony  floor  avgift  ...  built  total_floors  \\\n",
       "2          54.0       False    2.0  2539.0  ...   1957           3.0   \n",
       "6          57.0         1.0    3.0  3501.0  ...   1957           7.0   \n",
       "7          53.0       False    1.0  3622.0  ...   1968           3.0   \n",
       "8          66.0         1.0    2.0  2836.0  ...   1960           3.0   \n",
       "9          77.0         1.0    1.0  4544.0  ...   1970           3.0   \n",
       "\n",
       "   has_lift        lat        lng  avgift_sqm      valdistrikt sold_price_sqm  \\\n",
       "2         0  57.660761  12.001016   47.018519  Bosgården Södra   42592.592593   \n",
       "6         1  57.662186  12.004269   61.421053  Bosgården Södra   44912.280702   \n",
       "7         0  57.661414  11.992174   68.339623       Västerberg   34905.660377   \n",
       "8         0  57.657920  11.997192   42.969697  Fässberg Västra   39696.969697   \n",
       "9         0  57.660423  11.993615   59.012987       Västerberg   33246.753247   \n",
       "\n",
       "   cost_per_month  cost_per_sqm  \n",
       "2          2954.0     54.703704  \n",
       "6          3861.0     67.736842  \n",
       "7          3927.0     74.094340  \n",
       "8          3361.0     50.924242  \n",
       "9          5034.0     65.376623  \n",
       "\n",
       "[5 rows x 21 columns]"
      ]
     },
     "execution_count": 7,
     "metadata": {},
     "output_type": "execute_result"
    }
   ],
   "source": [
    "data['sold_price_sqm'] = data['sold_price'] / data['living_space']\n",
    "data['cost_per_month'] = data['avgift'] + (data['driftskostnad'] / 12)\n",
    "data['cost_per_sqm'] = data['cost_per_month'] / data['living_space']\n",
    "data.head()"
   ]
  },
  {
   "cell_type": "markdown",
   "id": "30b58187",
   "metadata": {},
   "source": [
    "### Scaling the sold price\n",
    "\n",
    "Widely differing prices in Gothenburg/Mölndal depending on the desirability of the area may be a factor.  Given that we have the voting districts data available, we have the possibility to scale the sold price appropriately. A crude metric was used, where the mean of the dataset was taken, and the mean of each voting district was taken and the ratio was used as a scaling factor to standardise the price."
   ]
  },
  {
   "cell_type": "code",
   "execution_count": 8,
   "id": "04902916",
   "metadata": {},
   "outputs": [
    {
     "name": "stdout",
     "output_type": "stream",
     "text": [
      "overall_mean 52494.88671319485, valdistrikt_mean valdistrikt\n",
      "Angered, Agnesberg                   22278.673835\n",
      "Angered, Angereds Centrum            31875.000000\n",
      "Angered, Bergum                      33586.879433\n",
      "Angered, Björsared                   30357.142857\n",
      "Angered, Eriksbo                     22049.214204\n",
      "                                         ...     \n",
      "Östra Göteborg, Kortedala, Västra    30456.838230\n",
      "Östra Göteborg, Kortedala, Östra     37267.183602\n",
      "Östra Göteborg, Kviberg, Östra       49952.785740\n",
      "Östra Göteborg, Nylöse               46347.847358\n",
      "Östra Göteborg, Utbynäs              24691.358025\n",
      "Name: sold_price_sqm, Length: 270, dtype: float64\n"
     ]
    }
   ],
   "source": [
    "overall_mean = data['sold_price_sqm'].mean()\n",
    "\n",
    "valdistrikt_mean = data.groupby('valdistrikt')['sold_price_sqm'].mean()\n",
    "print(f'overall_mean {overall_mean}, valdistrikt_mean {valdistrikt_mean}')"
   ]
  },
  {
   "cell_type": "markdown",
   "id": "a2dc2f75",
   "metadata": {},
   "source": [
    "Even from the short summary above, one can see that the decision to scale the prices is somewhat justified.  An apartment in Kviberg Östra is 49952 SEK/$m^2$, whereas an apartment in Agnesberg in Angered has a mean of 22278 SEK/$m^2$ which is less than half.  Given the wide geographical area that Gothenburg and Mölndal municipalities encompases, alongside differing demographics and demands, it is inevitable that there will be a fairly wide range.  This is demonstrated more starkly by comparing the biggest and smallest mean, which has a range 73848 SEK/$m^2$."
   ]
  },
  {
   "cell_type": "code",
   "execution_count": 9,
   "id": "5ac22477",
   "metadata": {},
   "outputs": [
    {
     "name": "stdout",
     "output_type": "stream",
     "text": [
      "91549.2957746479 - 17700.609603184752 = 73848.68617146314\n"
     ]
    }
   ],
   "source": [
    "max_valdistrikt = data.groupby('valdistrikt')['sold_price_sqm'].mean().max()\n",
    "min_valdistrikt = data.groupby('valdistrikt')['sold_price_sqm'].mean().min()\n",
    "print(f'{max_valdistrikt} - {min_valdistrikt} = {max_valdistrikt - min_valdistrikt}')"
   ]
  },
  {
   "cell_type": "markdown",
   "id": "7b9dc6f5",
   "metadata": {},
   "source": [
    "That said, this comes with the caveat that while it's considerably better for performance when calculating predictive models, it suffers from the same weaknesses in regards to its statistical validity.  There are 270 unique voting districts, which means that even if they were uniformly distributed there will be districts where n < 30 - often considered a sample size.\n",
    "\n",
    "For the purposes of these data, however, this assumption was made: that each voting district has enough sold apartments to generate a statistically valid sample mean, and that the sample mean is representative of the population mean for that district."
   ]
  },
  {
   "cell_type": "code",
   "execution_count": 10,
   "id": "6fe5bbf0",
   "metadata": {},
   "outputs": [
    {
     "data": {
      "text/html": [
       "<div>\n",
       "<style scoped>\n",
       "    .dataframe tbody tr th:only-of-type {\n",
       "        vertical-align: middle;\n",
       "    }\n",
       "\n",
       "    .dataframe tbody tr th {\n",
       "        vertical-align: top;\n",
       "    }\n",
       "\n",
       "    .dataframe thead th {\n",
       "        text-align: right;\n",
       "    }\n",
       "</style>\n",
       "<table border=\"1\" class=\"dataframe\">\n",
       "  <thead>\n",
       "    <tr style=\"text-align: right;\">\n",
       "      <th></th>\n",
       "      <th>id</th>\n",
       "      <th>address</th>\n",
       "      <th>sale_date</th>\n",
       "      <th>asked_price</th>\n",
       "      <th>sold_price</th>\n",
       "      <th>rooms</th>\n",
       "      <th>living_space</th>\n",
       "      <th>has_balcony</th>\n",
       "      <th>floor</th>\n",
       "      <th>avgift</th>\n",
       "      <th>...</th>\n",
       "      <th>has_lift</th>\n",
       "      <th>lat</th>\n",
       "      <th>lng</th>\n",
       "      <th>avgift_sqm</th>\n",
       "      <th>valdistrikt</th>\n",
       "      <th>sold_price_sqm</th>\n",
       "      <th>cost_per_month</th>\n",
       "      <th>cost_per_sqm</th>\n",
       "      <th>scaled_price</th>\n",
       "      <th>scaled_price_sqm</th>\n",
       "    </tr>\n",
       "  </thead>\n",
       "  <tbody>\n",
       "    <tr>\n",
       "      <th>2</th>\n",
       "      <td>565</td>\n",
       "      <td>Frälsegårdsgatan 1 B</td>\n",
       "      <td>2020-12-29</td>\n",
       "      <td>1150000.0</td>\n",
       "      <td>2300000</td>\n",
       "      <td>2.0</td>\n",
       "      <td>54.0</td>\n",
       "      <td>False</td>\n",
       "      <td>2.0</td>\n",
       "      <td>2539.0</td>\n",
       "      <td>...</td>\n",
       "      <td>0</td>\n",
       "      <td>57.660761</td>\n",
       "      <td>12.001016</td>\n",
       "      <td>47.018519</td>\n",
       "      <td>Bosgården Södra</td>\n",
       "      <td>42592.592593</td>\n",
       "      <td>2954.0</td>\n",
       "      <td>54.703704</td>\n",
       "      <td>2.566014e+06</td>\n",
       "      <td>47518.778964</td>\n",
       "    </tr>\n",
       "    <tr>\n",
       "      <th>6</th>\n",
       "      <td>569</td>\n",
       "      <td>Häradsgatan 31</td>\n",
       "      <td>2020-12-22</td>\n",
       "      <td>2350000.0</td>\n",
       "      <td>2560000</td>\n",
       "      <td>2.0</td>\n",
       "      <td>57.0</td>\n",
       "      <td>1.0</td>\n",
       "      <td>3.0</td>\n",
       "      <td>3501.0</td>\n",
       "      <td>...</td>\n",
       "      <td>1</td>\n",
       "      <td>57.662186</td>\n",
       "      <td>12.004269</td>\n",
       "      <td>61.421053</td>\n",
       "      <td>Bosgården Södra</td>\n",
       "      <td>44912.280702</td>\n",
       "      <td>3861.0</td>\n",
       "      <td>67.736842</td>\n",
       "      <td>2.856085e+06</td>\n",
       "      <td>50106.758230</td>\n",
       "    </tr>\n",
       "    <tr>\n",
       "      <th>7</th>\n",
       "      <td>570</td>\n",
       "      <td>Pinnharvsgatan 7E</td>\n",
       "      <td>2020-12-21</td>\n",
       "      <td>1850000.0</td>\n",
       "      <td>1850000</td>\n",
       "      <td>2.0</td>\n",
       "      <td>53.0</td>\n",
       "      <td>False</td>\n",
       "      <td>1.0</td>\n",
       "      <td>3622.0</td>\n",
       "      <td>...</td>\n",
       "      <td>0</td>\n",
       "      <td>57.661414</td>\n",
       "      <td>11.992174</td>\n",
       "      <td>68.339623</td>\n",
       "      <td>Västerberg</td>\n",
       "      <td>34905.660377</td>\n",
       "      <td>3927.0</td>\n",
       "      <td>74.094340</td>\n",
       "      <td>2.742671e+06</td>\n",
       "      <td>51748.501942</td>\n",
       "    </tr>\n",
       "    <tr>\n",
       "      <th>8</th>\n",
       "      <td>571</td>\n",
       "      <td>Tvillinggatan 7 A</td>\n",
       "      <td>2020-12-18</td>\n",
       "      <td>2200000.0</td>\n",
       "      <td>2620000</td>\n",
       "      <td>3.0</td>\n",
       "      <td>66.0</td>\n",
       "      <td>1.0</td>\n",
       "      <td>2.0</td>\n",
       "      <td>2836.0</td>\n",
       "      <td>...</td>\n",
       "      <td>0</td>\n",
       "      <td>57.657920</td>\n",
       "      <td>11.997192</td>\n",
       "      <td>42.969697</td>\n",
       "      <td>Fässberg Västra</td>\n",
       "      <td>39696.969697</td>\n",
       "      <td>3361.0</td>\n",
       "      <td>50.924242</td>\n",
       "      <td>3.399699e+06</td>\n",
       "      <td>51510.590178</td>\n",
       "    </tr>\n",
       "    <tr>\n",
       "      <th>9</th>\n",
       "      <td>572</td>\n",
       "      <td>Utsädesgatan 4 B</td>\n",
       "      <td>2020-12-17</td>\n",
       "      <td>2100000.0</td>\n",
       "      <td>2560000</td>\n",
       "      <td>3.0</td>\n",
       "      <td>77.0</td>\n",
       "      <td>1.0</td>\n",
       "      <td>1.0</td>\n",
       "      <td>4544.0</td>\n",
       "      <td>...</td>\n",
       "      <td>0</td>\n",
       "      <td>57.660423</td>\n",
       "      <td>11.993615</td>\n",
       "      <td>59.012987</td>\n",
       "      <td>Västerberg</td>\n",
       "      <td>33246.753247</td>\n",
       "      <td>5034.0</td>\n",
       "      <td>65.376623</td>\n",
       "      <td>3.795263e+06</td>\n",
       "      <td>49289.131229</td>\n",
       "    </tr>\n",
       "  </tbody>\n",
       "</table>\n",
       "<p>5 rows × 23 columns</p>\n",
       "</div>"
      ],
      "text/plain": [
       "    id               address   sale_date  asked_price  sold_price  rooms  \\\n",
       "2  565  Frälsegårdsgatan 1 B  2020-12-29    1150000.0     2300000    2.0   \n",
       "6  569        Häradsgatan 31  2020-12-22    2350000.0     2560000    2.0   \n",
       "7  570     Pinnharvsgatan 7E  2020-12-21    1850000.0     1850000    2.0   \n",
       "8  571     Tvillinggatan 7 A  2020-12-18    2200000.0     2620000    3.0   \n",
       "9  572      Utsädesgatan 4 B  2020-12-17    2100000.0     2560000    3.0   \n",
       "\n",
       "   living_space has_balcony  floor  avgift  ...  has_lift        lat  \\\n",
       "2          54.0       False    2.0  2539.0  ...         0  57.660761   \n",
       "6          57.0         1.0    3.0  3501.0  ...         1  57.662186   \n",
       "7          53.0       False    1.0  3622.0  ...         0  57.661414   \n",
       "8          66.0         1.0    2.0  2836.0  ...         0  57.657920   \n",
       "9          77.0         1.0    1.0  4544.0  ...         0  57.660423   \n",
       "\n",
       "         lng  avgift_sqm      valdistrikt  sold_price_sqm  cost_per_month  \\\n",
       "2  12.001016   47.018519  Bosgården Södra    42592.592593          2954.0   \n",
       "6  12.004269   61.421053  Bosgården Södra    44912.280702          3861.0   \n",
       "7  11.992174   68.339623       Västerberg    34905.660377          3927.0   \n",
       "8  11.997192   42.969697  Fässberg Västra    39696.969697          3361.0   \n",
       "9  11.993615   59.012987       Västerberg    33246.753247          5034.0   \n",
       "\n",
       "  cost_per_sqm  scaled_price  scaled_price_sqm  \n",
       "2    54.703704  2.566014e+06      47518.778964  \n",
       "6    67.736842  2.856085e+06      50106.758230  \n",
       "7    74.094340  2.742671e+06      51748.501942  \n",
       "8    50.924242  3.399699e+06      51510.590178  \n",
       "9    65.376623  3.795263e+06      49289.131229  \n",
       "\n",
       "[5 rows x 23 columns]"
      ]
     },
     "execution_count": 10,
     "metadata": {},
     "output_type": "execute_result"
    }
   ],
   "source": [
    "scaled_price = []\n",
    "for i, row in data.iterrows():\n",
    "    v_mean = valdistrikt_mean[row[\"valdistrikt\"]]\n",
    "    scaled = row[\"sold_price\"] * overall_mean / v_mean\n",
    "    scaled_price.append(scaled)\n",
    "data['scaled_price'] = np.array(scaled_price)\n",
    "data['scaled_price_sqm'] = data['scaled_price'] / data['living_space']\n",
    "data.head()"
   ]
  },
  {
   "cell_type": "markdown",
   "id": "a4bae306",
   "metadata": {},
   "source": [
    "### Drop irrelevent features\n",
    "\n",
    "Not all the fields will be required for the analysis, so they are being removed now to make future analysis simpler."
   ]
  },
  {
   "cell_type": "code",
   "execution_count": 11,
   "id": "faf5b091",
   "metadata": {},
   "outputs": [
    {
     "data": {
      "text/html": [
       "<div>\n",
       "<style scoped>\n",
       "    .dataframe tbody tr th:only-of-type {\n",
       "        vertical-align: middle;\n",
       "    }\n",
       "\n",
       "    .dataframe tbody tr th {\n",
       "        vertical-align: top;\n",
       "    }\n",
       "\n",
       "    .dataframe thead th {\n",
       "        text-align: right;\n",
       "    }\n",
       "</style>\n",
       "<table border=\"1\" class=\"dataframe\">\n",
       "  <thead>\n",
       "    <tr style=\"text-align: right;\">\n",
       "      <th></th>\n",
       "      <th>sold_price</th>\n",
       "      <th>rooms</th>\n",
       "      <th>living_space</th>\n",
       "      <th>has_balcony</th>\n",
       "      <th>floor</th>\n",
       "      <th>avgift</th>\n",
       "      <th>driftskostnad</th>\n",
       "      <th>built</th>\n",
       "      <th>has_lift</th>\n",
       "      <th>avgift_sqm</th>\n",
       "      <th>sold_price_sqm</th>\n",
       "      <th>cost_per_month</th>\n",
       "      <th>cost_per_sqm</th>\n",
       "      <th>scaled_price</th>\n",
       "      <th>scaled_price_sqm</th>\n",
       "    </tr>\n",
       "  </thead>\n",
       "  <tbody>\n",
       "    <tr>\n",
       "      <th>2</th>\n",
       "      <td>2300000</td>\n",
       "      <td>2.0</td>\n",
       "      <td>54.0</td>\n",
       "      <td>False</td>\n",
       "      <td>2.0</td>\n",
       "      <td>2539.0</td>\n",
       "      <td>4980.0</td>\n",
       "      <td>1957</td>\n",
       "      <td>0</td>\n",
       "      <td>47.018519</td>\n",
       "      <td>42592.592593</td>\n",
       "      <td>2954.00</td>\n",
       "      <td>54.703704</td>\n",
       "      <td>2.566014e+06</td>\n",
       "      <td>47518.778964</td>\n",
       "    </tr>\n",
       "    <tr>\n",
       "      <th>6</th>\n",
       "      <td>2560000</td>\n",
       "      <td>2.0</td>\n",
       "      <td>57.0</td>\n",
       "      <td>1.0</td>\n",
       "      <td>3.0</td>\n",
       "      <td>3501.0</td>\n",
       "      <td>4320.0</td>\n",
       "      <td>1957</td>\n",
       "      <td>1</td>\n",
       "      <td>61.421053</td>\n",
       "      <td>44912.280702</td>\n",
       "      <td>3861.00</td>\n",
       "      <td>67.736842</td>\n",
       "      <td>2.856085e+06</td>\n",
       "      <td>50106.758230</td>\n",
       "    </tr>\n",
       "    <tr>\n",
       "      <th>7</th>\n",
       "      <td>1850000</td>\n",
       "      <td>2.0</td>\n",
       "      <td>53.0</td>\n",
       "      <td>False</td>\n",
       "      <td>1.0</td>\n",
       "      <td>3622.0</td>\n",
       "      <td>3660.0</td>\n",
       "      <td>1968</td>\n",
       "      <td>0</td>\n",
       "      <td>68.339623</td>\n",
       "      <td>34905.660377</td>\n",
       "      <td>3927.00</td>\n",
       "      <td>74.094340</td>\n",
       "      <td>2.742671e+06</td>\n",
       "      <td>51748.501942</td>\n",
       "    </tr>\n",
       "    <tr>\n",
       "      <th>8</th>\n",
       "      <td>2620000</td>\n",
       "      <td>3.0</td>\n",
       "      <td>66.0</td>\n",
       "      <td>1.0</td>\n",
       "      <td>2.0</td>\n",
       "      <td>2836.0</td>\n",
       "      <td>6300.0</td>\n",
       "      <td>1960</td>\n",
       "      <td>0</td>\n",
       "      <td>42.969697</td>\n",
       "      <td>39696.969697</td>\n",
       "      <td>3361.00</td>\n",
       "      <td>50.924242</td>\n",
       "      <td>3.399699e+06</td>\n",
       "      <td>51510.590178</td>\n",
       "    </tr>\n",
       "    <tr>\n",
       "      <th>9</th>\n",
       "      <td>2560000</td>\n",
       "      <td>3.0</td>\n",
       "      <td>77.0</td>\n",
       "      <td>1.0</td>\n",
       "      <td>1.0</td>\n",
       "      <td>4544.0</td>\n",
       "      <td>5880.0</td>\n",
       "      <td>1970</td>\n",
       "      <td>0</td>\n",
       "      <td>59.012987</td>\n",
       "      <td>33246.753247</td>\n",
       "      <td>5034.00</td>\n",
       "      <td>65.376623</td>\n",
       "      <td>3.795263e+06</td>\n",
       "      <td>49289.131229</td>\n",
       "    </tr>\n",
       "    <tr>\n",
       "      <th>...</th>\n",
       "      <td>...</td>\n",
       "      <td>...</td>\n",
       "      <td>...</td>\n",
       "      <td>...</td>\n",
       "      <td>...</td>\n",
       "      <td>...</td>\n",
       "      <td>...</td>\n",
       "      <td>...</td>\n",
       "      <td>...</td>\n",
       "      <td>...</td>\n",
       "      <td>...</td>\n",
       "      <td>...</td>\n",
       "      <td>...</td>\n",
       "      <td>...</td>\n",
       "      <td>...</td>\n",
       "    </tr>\n",
       "    <tr>\n",
       "      <th>3097</th>\n",
       "      <td>9000000</td>\n",
       "      <td>4.0</td>\n",
       "      <td>133.0</td>\n",
       "      <td>1.0</td>\n",
       "      <td>1.0</td>\n",
       "      <td>3293.0</td>\n",
       "      <td>6768.0</td>\n",
       "      <td>1929</td>\n",
       "      <td>1</td>\n",
       "      <td>24.759398</td>\n",
       "      <td>67669.172932</td>\n",
       "      <td>3857.00</td>\n",
       "      <td>29.000000</td>\n",
       "      <td>6.152932e+06</td>\n",
       "      <td>46262.644058</td>\n",
       "    </tr>\n",
       "    <tr>\n",
       "      <th>3099</th>\n",
       "      <td>2295000</td>\n",
       "      <td>3.0</td>\n",
       "      <td>81.0</td>\n",
       "      <td>1.0</td>\n",
       "      <td>2.0</td>\n",
       "      <td>5378.0</td>\n",
       "      <td>6900.0</td>\n",
       "      <td>1972</td>\n",
       "      <td>1</td>\n",
       "      <td>66.395062</td>\n",
       "      <td>28333.333333</td>\n",
       "      <td>5953.00</td>\n",
       "      <td>73.493827</td>\n",
       "      <td>3.229789e+06</td>\n",
       "      <td>39873.933550</td>\n",
       "    </tr>\n",
       "    <tr>\n",
       "      <th>3100</th>\n",
       "      <td>2050000</td>\n",
       "      <td>1.0</td>\n",
       "      <td>41.0</td>\n",
       "      <td>False</td>\n",
       "      <td>1.0</td>\n",
       "      <td>2606.0</td>\n",
       "      <td>5160.0</td>\n",
       "      <td>2016</td>\n",
       "      <td>1</td>\n",
       "      <td>63.560976</td>\n",
       "      <td>50000.000000</td>\n",
       "      <td>3036.00</td>\n",
       "      <td>74.048780</td>\n",
       "      <td>2.374524e+06</td>\n",
       "      <td>57915.222390</td>\n",
       "    </tr>\n",
       "    <tr>\n",
       "      <th>3101</th>\n",
       "      <td>4325000</td>\n",
       "      <td>3.0</td>\n",
       "      <td>79.0</td>\n",
       "      <td>1.0</td>\n",
       "      <td>4.0</td>\n",
       "      <td>5448.0</td>\n",
       "      <td>4200.0</td>\n",
       "      <td>2004</td>\n",
       "      <td>1</td>\n",
       "      <td>68.962025</td>\n",
       "      <td>54746.835443</td>\n",
       "      <td>5798.00</td>\n",
       "      <td>73.392405</td>\n",
       "      <td>4.499201e+06</td>\n",
       "      <td>56951.913467</td>\n",
       "    </tr>\n",
       "    <tr>\n",
       "      <th>3103</th>\n",
       "      <td>5300000</td>\n",
       "      <td>3.0</td>\n",
       "      <td>89.0</td>\n",
       "      <td>1.0</td>\n",
       "      <td>2.0</td>\n",
       "      <td>3974.0</td>\n",
       "      <td>10035.0</td>\n",
       "      <td>2008</td>\n",
       "      <td>1</td>\n",
       "      <td>44.651685</td>\n",
       "      <td>59550.561798</td>\n",
       "      <td>4810.25</td>\n",
       "      <td>54.047753</td>\n",
       "      <td>4.719823e+06</td>\n",
       "      <td>53031.714122</td>\n",
       "    </tr>\n",
       "  </tbody>\n",
       "</table>\n",
       "<p>1920 rows × 15 columns</p>\n",
       "</div>"
      ],
      "text/plain": [
       "      sold_price  rooms  living_space has_balcony  floor  avgift  \\\n",
       "2        2300000    2.0          54.0       False    2.0  2539.0   \n",
       "6        2560000    2.0          57.0         1.0    3.0  3501.0   \n",
       "7        1850000    2.0          53.0       False    1.0  3622.0   \n",
       "8        2620000    3.0          66.0         1.0    2.0  2836.0   \n",
       "9        2560000    3.0          77.0         1.0    1.0  4544.0   \n",
       "...          ...    ...           ...         ...    ...     ...   \n",
       "3097     9000000    4.0         133.0         1.0    1.0  3293.0   \n",
       "3099     2295000    3.0          81.0         1.0    2.0  5378.0   \n",
       "3100     2050000    1.0          41.0       False    1.0  2606.0   \n",
       "3101     4325000    3.0          79.0         1.0    4.0  5448.0   \n",
       "3103     5300000    3.0          89.0         1.0    2.0  3974.0   \n",
       "\n",
       "      driftskostnad  built  has_lift  avgift_sqm  sold_price_sqm  \\\n",
       "2            4980.0   1957         0   47.018519    42592.592593   \n",
       "6            4320.0   1957         1   61.421053    44912.280702   \n",
       "7            3660.0   1968         0   68.339623    34905.660377   \n",
       "8            6300.0   1960         0   42.969697    39696.969697   \n",
       "9            5880.0   1970         0   59.012987    33246.753247   \n",
       "...             ...    ...       ...         ...             ...   \n",
       "3097         6768.0   1929         1   24.759398    67669.172932   \n",
       "3099         6900.0   1972         1   66.395062    28333.333333   \n",
       "3100         5160.0   2016         1   63.560976    50000.000000   \n",
       "3101         4200.0   2004         1   68.962025    54746.835443   \n",
       "3103        10035.0   2008         1   44.651685    59550.561798   \n",
       "\n",
       "      cost_per_month  cost_per_sqm  scaled_price  scaled_price_sqm  \n",
       "2            2954.00     54.703704  2.566014e+06      47518.778964  \n",
       "6            3861.00     67.736842  2.856085e+06      50106.758230  \n",
       "7            3927.00     74.094340  2.742671e+06      51748.501942  \n",
       "8            3361.00     50.924242  3.399699e+06      51510.590178  \n",
       "9            5034.00     65.376623  3.795263e+06      49289.131229  \n",
       "...              ...           ...           ...               ...  \n",
       "3097         3857.00     29.000000  6.152932e+06      46262.644058  \n",
       "3099         5953.00     73.493827  3.229789e+06      39873.933550  \n",
       "3100         3036.00     74.048780  2.374524e+06      57915.222390  \n",
       "3101         5798.00     73.392405  4.499201e+06      56951.913467  \n",
       "3103         4810.25     54.047753  4.719823e+06      53031.714122  \n",
       "\n",
       "[1920 rows x 15 columns]"
      ]
     },
     "execution_count": 11,
     "metadata": {},
     "output_type": "execute_result"
    }
   ],
   "source": [
    "to_drop = ['id', 'address', 'sale_date', 'asked_price', 'total_floors', 'lat', 'lng', 'valdistrikt']\n",
    "\n",
    "data = data.drop(columns=to_drop)\n",
    "data"
   ]
  },
  {
   "cell_type": "markdown",
   "id": "670fbb26",
   "metadata": {},
   "source": [
    "## Descriptive analysis (4 pts)\n",
    "\n",
    "* Show the histogram of some selected variables and describe what you conclude.\n",
    "* Show the dependence of some selected variables and describe what you conclude.\n",
    "* Describe the data using its range, sample mean, sample standard deviation and some quantiles.\n",
    "* Choose a visualization method to explore the data set.\n",
    "* **Explain how your analysis relates to the objective of your project**, i.e. why are these selected variables important? For example, for the diabetes data set, we choose to look at the “blood sugar level” and the “bmi body mass index” because they have the highest correlation with the target value y. Note: this is a dummy example. It is not necessarily true. You should motivate your conclusion with facts. "
   ]
  },
  {
   "cell_type": "markdown",
   "id": "4f746be4",
   "metadata": {},
   "source": [
    "This section will serve as an exploratory data analysis, and seek to confirm or refute some of the initial intuition behind the data.  Overall descriptive statistics of the data may be seen below:"
   ]
  },
  {
   "cell_type": "code",
   "execution_count": 12,
   "id": "73737a29",
   "metadata": {},
   "outputs": [
    {
     "data": {
      "text/html": [
       "<div>\n",
       "<style scoped>\n",
       "    .dataframe tbody tr th:only-of-type {\n",
       "        vertical-align: middle;\n",
       "    }\n",
       "\n",
       "    .dataframe tbody tr th {\n",
       "        vertical-align: top;\n",
       "    }\n",
       "\n",
       "    .dataframe thead th {\n",
       "        text-align: right;\n",
       "    }\n",
       "</style>\n",
       "<table border=\"1\" class=\"dataframe\">\n",
       "  <thead>\n",
       "    <tr style=\"text-align: right;\">\n",
       "      <th></th>\n",
       "      <th>sold_price</th>\n",
       "      <th>rooms</th>\n",
       "      <th>living_space</th>\n",
       "      <th>floor</th>\n",
       "      <th>avgift</th>\n",
       "      <th>driftskostnad</th>\n",
       "      <th>built</th>\n",
       "      <th>has_lift</th>\n",
       "      <th>avgift_sqm</th>\n",
       "      <th>sold_price_sqm</th>\n",
       "      <th>cost_per_month</th>\n",
       "      <th>cost_per_sqm</th>\n",
       "      <th>scaled_price</th>\n",
       "      <th>scaled_price_sqm</th>\n",
       "    </tr>\n",
       "  </thead>\n",
       "  <tbody>\n",
       "    <tr>\n",
       "      <th>count</th>\n",
       "      <td>1.920000e+03</td>\n",
       "      <td>1920.000000</td>\n",
       "      <td>1920.000000</td>\n",
       "      <td>1920.000000</td>\n",
       "      <td>1920.000000</td>\n",
       "      <td>1920.000000</td>\n",
       "      <td>1920.000000</td>\n",
       "      <td>1920.000000</td>\n",
       "      <td>1920.000000</td>\n",
       "      <td>1920.000000</td>\n",
       "      <td>1920.000000</td>\n",
       "      <td>1920.000000</td>\n",
       "      <td>1.920000e+03</td>\n",
       "      <td>1920.000000</td>\n",
       "    </tr>\n",
       "    <tr>\n",
       "      <th>mean</th>\n",
       "      <td>3.298065e+06</td>\n",
       "      <td>2.378646</td>\n",
       "      <td>64.055208</td>\n",
       "      <td>2.913542</td>\n",
       "      <td>3783.363021</td>\n",
       "      <td>5297.308333</td>\n",
       "      <td>1968.328646</td>\n",
       "      <td>0.501042</td>\n",
       "      <td>60.539633</td>\n",
       "      <td>52494.886713</td>\n",
       "      <td>4224.805382</td>\n",
       "      <td>67.791674</td>\n",
       "      <td>3.308113e+06</td>\n",
       "      <td>52494.886713</td>\n",
       "    </tr>\n",
       "    <tr>\n",
       "      <th>std</th>\n",
       "      <td>1.486872e+06</td>\n",
       "      <td>0.896326</td>\n",
       "      <td>20.710292</td>\n",
       "      <td>2.043769</td>\n",
       "      <td>1110.550353</td>\n",
       "      <td>2460.806541</td>\n",
       "      <td>35.179860</td>\n",
       "      <td>0.500129</td>\n",
       "      <td>10.908799</td>\n",
       "      <td>16153.480615</td>\n",
       "      <td>1186.928452</td>\n",
       "      <td>11.708059</td>\n",
       "      <td>1.024155e+06</td>\n",
       "      <td>7076.030016</td>\n",
       "    </tr>\n",
       "    <tr>\n",
       "      <th>min</th>\n",
       "      <td>9.700000e+05</td>\n",
       "      <td>1.000000</td>\n",
       "      <td>17.000000</td>\n",
       "      <td>0.000000</td>\n",
       "      <td>623.000000</td>\n",
       "      <td>330.000000</td>\n",
       "      <td>1805.000000</td>\n",
       "      <td>0.000000</td>\n",
       "      <td>6.771739</td>\n",
       "      <td>13917.525773</td>\n",
       "      <td>1023.000000</td>\n",
       "      <td>11.119565</td>\n",
       "      <td>1.254002e+06</td>\n",
       "      <td>27049.438467</td>\n",
       "    </tr>\n",
       "    <tr>\n",
       "      <th>25%</th>\n",
       "      <td>2.325000e+06</td>\n",
       "      <td>2.000000</td>\n",
       "      <td>51.000000</td>\n",
       "      <td>2.000000</td>\n",
       "      <td>2980.000000</td>\n",
       "      <td>3900.000000</td>\n",
       "      <td>1945.000000</td>\n",
       "      <td>0.000000</td>\n",
       "      <td>54.000000</td>\n",
       "      <td>40350.877193</td>\n",
       "      <td>3377.625000</td>\n",
       "      <td>60.967778</td>\n",
       "      <td>2.557678e+06</td>\n",
       "      <td>47973.618060</td>\n",
       "    </tr>\n",
       "    <tr>\n",
       "      <th>50%</th>\n",
       "      <td>2.950000e+06</td>\n",
       "      <td>2.000000</td>\n",
       "      <td>62.000000</td>\n",
       "      <td>2.000000</td>\n",
       "      <td>3696.500000</td>\n",
       "      <td>4800.000000</td>\n",
       "      <td>1967.000000</td>\n",
       "      <td>1.000000</td>\n",
       "      <td>60.649958</td>\n",
       "      <td>52294.197031</td>\n",
       "      <td>4126.500000</td>\n",
       "      <td>67.717623</td>\n",
       "      <td>3.142046e+06</td>\n",
       "      <td>52334.674476</td>\n",
       "    </tr>\n",
       "    <tr>\n",
       "      <th>75%</th>\n",
       "      <td>3.900000e+06</td>\n",
       "      <td>3.000000</td>\n",
       "      <td>77.000000</td>\n",
       "      <td>4.000000</td>\n",
       "      <td>4485.750000</td>\n",
       "      <td>6018.000000</td>\n",
       "      <td>2008.000000</td>\n",
       "      <td>1.000000</td>\n",
       "      <td>67.404730</td>\n",
       "      <td>63469.169719</td>\n",
       "      <td>4963.437500</td>\n",
       "      <td>74.714878</td>\n",
       "      <td>3.867264e+06</td>\n",
       "      <td>56296.380051</td>\n",
       "    </tr>\n",
       "    <tr>\n",
       "      <th>max</th>\n",
       "      <td>1.665000e+07</td>\n",
       "      <td>6.000000</td>\n",
       "      <td>205.000000</td>\n",
       "      <td>16.000000</td>\n",
       "      <td>9136.000000</td>\n",
       "      <td>27312.000000</td>\n",
       "      <td>2022.000000</td>\n",
       "      <td>1.000000</td>\n",
       "      <td>102.705882</td>\n",
       "      <td>125757.575758</td>\n",
       "      <td>11412.000000</td>\n",
       "      <td>119.617647</td>\n",
       "      <td>9.945775e+06</td>\n",
       "      <td>100888.730945</td>\n",
       "    </tr>\n",
       "  </tbody>\n",
       "</table>\n",
       "</div>"
      ],
      "text/plain": [
       "         sold_price        rooms  living_space        floor       avgift  \\\n",
       "count  1.920000e+03  1920.000000   1920.000000  1920.000000  1920.000000   \n",
       "mean   3.298065e+06     2.378646     64.055208     2.913542  3783.363021   \n",
       "std    1.486872e+06     0.896326     20.710292     2.043769  1110.550353   \n",
       "min    9.700000e+05     1.000000     17.000000     0.000000   623.000000   \n",
       "25%    2.325000e+06     2.000000     51.000000     2.000000  2980.000000   \n",
       "50%    2.950000e+06     2.000000     62.000000     2.000000  3696.500000   \n",
       "75%    3.900000e+06     3.000000     77.000000     4.000000  4485.750000   \n",
       "max    1.665000e+07     6.000000    205.000000    16.000000  9136.000000   \n",
       "\n",
       "       driftskostnad        built     has_lift   avgift_sqm  sold_price_sqm  \\\n",
       "count    1920.000000  1920.000000  1920.000000  1920.000000     1920.000000   \n",
       "mean     5297.308333  1968.328646     0.501042    60.539633    52494.886713   \n",
       "std      2460.806541    35.179860     0.500129    10.908799    16153.480615   \n",
       "min       330.000000  1805.000000     0.000000     6.771739    13917.525773   \n",
       "25%      3900.000000  1945.000000     0.000000    54.000000    40350.877193   \n",
       "50%      4800.000000  1967.000000     1.000000    60.649958    52294.197031   \n",
       "75%      6018.000000  2008.000000     1.000000    67.404730    63469.169719   \n",
       "max     27312.000000  2022.000000     1.000000   102.705882   125757.575758   \n",
       "\n",
       "       cost_per_month  cost_per_sqm  scaled_price  scaled_price_sqm  \n",
       "count     1920.000000   1920.000000  1.920000e+03       1920.000000  \n",
       "mean      4224.805382     67.791674  3.308113e+06      52494.886713  \n",
       "std       1186.928452     11.708059  1.024155e+06       7076.030016  \n",
       "min       1023.000000     11.119565  1.254002e+06      27049.438467  \n",
       "25%       3377.625000     60.967778  2.557678e+06      47973.618060  \n",
       "50%       4126.500000     67.717623  3.142046e+06      52334.674476  \n",
       "75%       4963.437500     74.714878  3.867264e+06      56296.380051  \n",
       "max      11412.000000    119.617647  9.945775e+06     100888.730945  "
      ]
     },
     "execution_count": 12,
     "metadata": {},
     "output_type": "execute_result"
    }
   ],
   "source": [
    "data.describe()"
   ]
  },
  {
   "cell_type": "markdown",
   "id": "c5758449",
   "metadata": {},
   "source": [
    "We would expect the size of the apartment has a positive correlation to the overall value.  However, the degree to which other factors influence the output variable should also be investigated:\n",
    "\n",
    "### Apartment size vs sold price"
   ]
  },
  {
   "cell_type": "code",
   "execution_count": 13,
   "id": "a612e1ed",
   "metadata": {},
   "outputs": [
    {
     "data": {
      "text/plain": [
       "<matplotlib.collections.PathCollection at 0x7fb28a5976a0>"
      ]
     },
     "execution_count": 13,
     "metadata": {},
     "output_type": "execute_result"
    },
    {
     "data": {
      "image/png": "[encoded data removed]",
      "text/plain": [
       "<Figure size 432x288 with 1 Axes>"
      ]
     },
     "metadata": {},
     "output_type": "display_data"
    }
   ],
   "source": [
    "plt.scatter(data['living_space'], data['sold_price'])"
   ]
  },
  {
   "cell_type": "markdown",
   "id": "3eeb578e",
   "metadata": {},
   "source": [
    "### Amount of rooms vs scaled price"
   ]
  },
  {
   "cell_type": "code",
   "execution_count": 14,
   "id": "20384307",
   "metadata": {},
   "outputs": [
    {
     "data": {
      "text/plain": [
       "<matplotlib.collections.PathCollection at 0x7fb28a425c40>"
      ]
     },
     "execution_count": 14,
     "metadata": {},
     "output_type": "execute_result"
    },
    {
     "data": {
      "image/png": "[encoded data removed]",
      "text/plain": [
       "<Figure size 432x288 with 1 Axes>"
      ]
     },
     "metadata": {},
     "output_type": "display_data"
    }
   ],
   "source": [
    "plt.scatter(data['rooms'], data['sold_price'])"
   ]
  },
  {
   "cell_type": "code",
   "execution_count": 15,
   "id": "3ec95b83",
   "metadata": {},
   "outputs": [
    {
     "data": {
      "text/plain": [
       "<AxesSubplot:>"
      ]
     },
     "execution_count": 15,
     "metadata": {},
     "output_type": "execute_result"
    },
    {
     "data": {
      "image/png": "[encoded data removed]",
      "text/plain": [
       "<Figure size 640x480 with 2 Axes>"
      ]
     },
     "metadata": {},
     "output_type": "display_data"
    }
   ],
   "source": [
    "from matplotlib.pyplot import figure\n",
    "figure(figsize=(8, 6), dpi=80)\n",
    "\n",
    "corr_map = data.corr().abs()\n",
    "sns.heatmap(corr_map,annot=True,cmap=\"RdYlGn\")"
   ]
  },
  {
   "cell_type": "markdown",
   "id": "c905f67a",
   "metadata": {},
   "source": [
    "Most of these correlations are unsurprising.  The most strongly correlated is cost_per_month and avgift, but since cost_per_month includes the avgift almost entirely that is to be expected.  Similarly, cost/sqm and avgift/sqm so we will need to ensure that we use either the total cost or the avgift at any one time.\n",
    "\n",
    "Some of the other fields also predict each other, notably avgift and rooms/living space.  This is also unsurprising, because the monthly fee is calculated by the housing association based on the size of the apartment, even if it is displayed as an absolute number.  This is the reason for the avgift/sqm field, which can be used as amore objective method of calculating the cost.\n",
    "\n",
    "Finally, that rooms and living space are also highly correlated should not be a surprise.  A bigger apartment is intuitively very likely to have more rooms than a smaller apartment."
   ]
  },
  {
   "cell_type": "markdown",
   "id": "92992256",
   "metadata": {},
   "source": [
    "### Monthly fee/$m^2$ vs sold price\n",
    "\n",
    "This final piece of descriptive analysis was somewhat of an indulgence.  The author lives in an apartment with a comparatively high monthly fee, and wished to see how much of an impact it would have on the overall price.  A higher fee does appear to have a small negative effect on the sold price, but there is so much noise it is impossible to conclude anything."
   ]
  },
  {
   "cell_type": "code",
   "execution_count": 16,
   "id": "e2205dc2",
   "metadata": {},
   "outputs": [
    {
     "name": "stdout",
     "output_type": "stream",
     "text": [
      "                sold_price_sqm  avgift_sqm\n",
      "sold_price_sqm        1.000000   -0.258387\n",
      "avgift_sqm           -0.258387    1.000000\n"
     ]
    },
    {
     "data": {
      "image/png": "[encoded data removed]",
      "text/plain": [
       "<Figure size 432x288 with 1 Axes>"
      ]
     },
     "metadata": {},
     "output_type": "display_data"
    }
   ],
   "source": [
    "# Avgift/sqm vs scaled price/sqm\n",
    "\n",
    "data_price_sqm = data['sold_price_sqm']\n",
    "data_avgift_sqm = data['avgift_sqm']\n",
    "print(data[['sold_price_sqm', 'avgift_sqm']].corr())\n",
    "\n",
    "plt.show(plt.scatter(data_avgift_sqm, data_price_sqm))"
   ]
  },
  {
   "cell_type": "code",
   "execution_count": null,
   "id": "984b24fa",
   "metadata": {},
   "outputs": [],
   "source": []
  },
  {
   "cell_type": "code",
   "execution_count": null,
   "id": "e567d1fa",
   "metadata": {},
   "outputs": [],
   "source": []
  },
  {
   "cell_type": "markdown",
   "id": "2c6a0f3b",
   "metadata": {},
   "source": [
    "## Probability distribution (5pts)\n",
    "\n",
    "* Use probability distributions to describe some selected variables.\n",
    "* What are the parameters in the distribution? Estimate these parameters.\n",
    "* Use hypothesis testing to show some interesting conclusions.\n"
   ]
  },
  {
   "cell_type": "markdown",
   "id": "23f9a1e0",
   "metadata": {},
   "source": [
    "### Sold price vs scaled price\n",
    "\n",
    "It would be expected that there is a long tail of apartment values, so this is the first thing to check.  If the data are obviously not Gaussian then additional manipulation of the data may be required.  As discussed in the previous section, we also expect high variance across different regions."
   ]
  },
  {
   "cell_type": "markdown",
   "id": "891df0a0",
   "metadata": {},
   "source": [
    "In the previous section, the mean was taken from the sample of sold prices in order to generate the scaled prices.  Using the simplifying assumption that this is the true mean, the maximum likelihood function of both the sold price and sale price were calculated.\n",
    "\n",
    "The histograms of both showed that it appeared to follow a Gaussian distribution.  This was confirmed by plotting the data against a theoretical Gaussian distribution:"
   ]
  },
  {
   "cell_type": "code",
   "execution_count": 17,
   "id": "13d6c071",
   "metadata": {},
   "outputs": [],
   "source": [
    "X_sold_price = data['sold_price']\n",
    "X_sold_price_sqm = data['sold_price_sqm']"
   ]
  },
  {
   "cell_type": "code",
   "execution_count": 18,
   "id": "feaea09e",
   "metadata": {},
   "outputs": [],
   "source": [
    "p = np.linspace(1, 99, num=100)*0.01\n",
    "def quantiles(X, probabilities=p):\n",
    "    return np.array([np.quantile(X, p) for p in probabilities])"
   ]
  },
  {
   "cell_type": "code",
   "execution_count": 19,
   "id": "aaed6d1f",
   "metadata": {},
   "outputs": [
    {
     "data": {
      "image/png": "[encoded data removed]",
      "text/plain": [
       "<Figure size 432x288 with 1 Axes>"
      ]
     },
     "metadata": {},
     "output_type": "display_data"
    }
   ],
   "source": [
    "q1 = stats.norm.ppf(p, loc=X_sold_price.mean(), scale=200000)\n",
    "qqplot_x = qqplot_2samples(quantiles(X_sold_price), q1, line='45', \n",
    "        xlabel='Distribution of sold prices (SEK)$', ylabel='Theoretical Gaussian')"
   ]
  },
  {
   "cell_type": "code",
   "execution_count": 20,
   "id": "f07d5f64",
   "metadata": {},
   "outputs": [
    {
     "data": {
      "image/png": "[encoded data removed]",
      "text/plain": [
       "<Figure size 432x288 with 1 Axes>"
      ]
     },
     "metadata": {},
     "output_type": "display_data"
    }
   ],
   "source": [
    "# Theoretical distribution\n",
    "\n",
    "def gaussian(X):\n",
    "    \"\"\"Returns a theoretical Gaussian distribution with the sample median of X for comparison\n",
    "    \"\"\"\n",
    "    p = np.linspace(1, 99, num=100)*0.01\n",
    "    return stats.norm.ppf(p, loc=X.mean(), scale=X.std())\n",
    "q1 = gaussian(X_sold_price_sqm) \n",
    "qqplot_x = qqplot_2samples(quantiles(X_sold_price_sqm), q1, line='45',\n",
    "                          xlabel='Distribution of sold prices/$m^2$ (SEK)', ylabel='Theoretical Gaussian')\n"
   ]
  },
  {
   "cell_type": "markdown",
   "id": "7da96f2a",
   "metadata": {},
   "source": [
    "The QQ plots were estimated assuming the sample mean represented the true mean, but with an arbitrary standard deviation.  It can be seen that both distributions follow a Gaussian distribution to a greater or lesser extent, but the exact parameters are unknown.  \n",
    "\n",
    "The tails of the distribution of price per square metre do not match the theoretical distribution as well as the straight sold price.  As such, the preferable output variable of an output variable.  The standard deviation of the distribution was calculated using MLE, with the sample mean as the mean parameter for the distribution which had already been used (see above).\n",
    "\n",
    "The Gaussian distribution is written as: $\\frac{1} {\\sqrt{2\\pi \\sigma^2}} e ^ {-\\frac{1}{2} (\\frac{x - \\mu}{\\sigma})^2  }$ where $\\mu$ is the mean and $\\sigma$ is the standard deviation.\n",
    "\n",
    "Since it was established that the distribution is Gaussian, the maximum likelihood variables are the sample mean and standard distribution.  This was calculated using the scipy library (using the pre-known mean), and then confirmed against the sample mean and standard distribution.  The same procedure was carried out for the scaled prices."
   ]
  },
  {
   "cell_type": "code",
   "execution_count": 21,
   "id": "a6147529",
   "metadata": {},
   "outputs": [
    {
     "data": {
      "text/plain": [
       "(3298064.8723958335, 1486485.1577522147)"
      ]
     },
     "execution_count": 21,
     "metadata": {},
     "output_type": "execute_result"
    }
   ],
   "source": [
    "from scipy.stats import norm\n",
    "norm.fit(X_sold_price, floc=X_sold_price.mean())"
   ]
  },
  {
   "cell_type": "code",
   "execution_count": 22,
   "id": "e03d2ec5",
   "metadata": {},
   "outputs": [
    {
     "data": {
      "text/plain": [
       "(3298064.8723958335, 1486872.414540798)"
      ]
     },
     "execution_count": 22,
     "metadata": {},
     "output_type": "execute_result"
    }
   ],
   "source": [
    "X_sold_price.mean(), X_sold_price.std()"
   ]
  },
  {
   "cell_type": "code",
   "execution_count": 23,
   "id": "aea850a5",
   "metadata": {},
   "outputs": [
    {
     "data": {
      "text/plain": [
       "(60.53963294983832, 10.908799287756754)"
      ]
     },
     "execution_count": 23,
     "metadata": {},
     "output_type": "execute_result"
    }
   ],
   "source": [
    "data_avgift_sqm.mean(), data_avgift_sqm.std()"
   ]
  },
  {
   "cell_type": "markdown",
   "id": "d982a42d",
   "metadata": {},
   "source": [
    "### Apartment floor vs sold price\n",
    "\n",
    "A potentially interesting feature is the extent to which the floor of an apartment affects the price.  Someone who lives on the ground floor has no stairs to climb, making it easier to bring shopping home, or get young children or older relatives into or out of the apartment, therefore making it a positive feature.  On the other hand, an apartment closer to the ground has a less good view, is colder, and gets more sounds from outside (e.g people talking, snow trucks, recycling vans etc.)  This could go down to personal preference, but the lack of information could lead to someone paying extra for a feature which should in fact drive the price down according to the property market in the city.\n",
    "\n",
    "Therefore, this section, we will consider the following hypotheses:\n",
    "\n",
    "* **Hypothesis 1**: An apartment on the ground floor will have a lower price to an equivalent apartment on a higher floor.\n",
    "* **Hypothesis 1A**: An apartment on the ground floor in a building without a lift will have a lower price than an equivalent apartment on a higher floor.\n"
   ]
  },
  {
   "cell_type": "markdown",
   "id": "0be10469",
   "metadata": {},
   "source": [
    "To avoid performing a hypothesis test on the same data twice, the data were separated into two equally sized samples and each hypothesis test run on those in order to run hypothesis tests concerning the lifts and ground floor.  Here we will split the data, check that the distributions match, and make sure each group is large enough to be statistically valid.  \n",
    "\n",
    "The hypothesis test concerning the rooms and living space is run on a separate subset of the data, and is not included in this consideration."
   ]
  },
  {
   "cell_type": "code",
   "execution_count": 24,
   "id": "84dd74cc",
   "metadata": {},
   "outputs": [],
   "source": [
    "X_floors_data, X_floors_lift_data, Y_floors_data, Y_floors_lift_data = \\\n",
    "    train_test_split(data, data['sold_price'], test_size=0.5, random_state=42)\n"
   ]
  },
  {
   "cell_type": "markdown",
   "id": "a27d29ff",
   "metadata": {},
   "source": [
    "### Ensure datasets are big enough\n",
    "\n",
    "It is a limitation of the data that there is often imprecision about what exactly constitutes the \"ground\" floor.  It may start at 0 or 1, or be slightly above the building's main entrance but still the lowest floor.  As such, we are considering that any apartment with floor number 0 or 1 is a ground floor apartment.\n",
    "\n",
    "Further, we make the assumption that if it is unknown whether an apartment has a lift, it will be considered to not have a lift as this is an additional feature which would be sure to have been included in the advertisement."
   ]
  },
  {
   "cell_type": "code",
   "execution_count": 25,
   "id": "11b72baf",
   "metadata": {},
   "outputs": [
    {
     "data": {
      "text/plain": [
       "sold_price          71\n",
       "rooms               71\n",
       "living_space        71\n",
       "has_balcony         71\n",
       "floor               71\n",
       "avgift              71\n",
       "driftskostnad       71\n",
       "built               71\n",
       "has_lift            71\n",
       "avgift_sqm          71\n",
       "sold_price_sqm      71\n",
       "cost_per_month      71\n",
       "cost_per_sqm        71\n",
       "scaled_price        71\n",
       "scaled_price_sqm    71\n",
       "dtype: int64"
      ]
     },
     "execution_count": 25,
     "metadata": {},
     "output_type": "execute_result"
    }
   ],
   "source": [
    "# Make sure that there are enough ground floor apartments in apartments with/without a lift\n",
    "X_floors_lift_data.loc[X_floors_lift_data['has_lift'] == 1].loc[X_floors_lift_data['floor'] < 2].count()"
   ]
  },
  {
   "cell_type": "code",
   "execution_count": 26,
   "id": "e0e74f46",
   "metadata": {},
   "outputs": [
    {
     "data": {
      "text/plain": [
       "sold_price          150\n",
       "rooms               150\n",
       "living_space        150\n",
       "has_balcony         150\n",
       "floor               150\n",
       "avgift              150\n",
       "driftskostnad       150\n",
       "built               150\n",
       "has_lift            150\n",
       "avgift_sqm          150\n",
       "sold_price_sqm      150\n",
       "cost_per_month      150\n",
       "cost_per_sqm        150\n",
       "scaled_price        150\n",
       "scaled_price_sqm    150\n",
       "dtype: int64"
      ]
     },
     "execution_count": 26,
     "metadata": {},
     "output_type": "execute_result"
    }
   ],
   "source": [
    "X_floors_lift_data.loc[X_floors_lift_data['has_lift'] == 0].loc[X_floors_lift_data['floor'] < 2].count()"
   ]
  },
  {
   "cell_type": "markdown",
   "id": "b6c45116",
   "metadata": {},
   "source": [
    "### Testing hypothesis 1\n",
    "\n",
    "Hypothesis 1 was defined as: *An apartment on the ground floor will have a lower price to an equivalent apartment on a higher floor.*\n",
    "\n",
    "We define the null hypothesis $H_0$ and alternative hypothesis $H_A$ as follows:\n",
    "\n",
    "Let $G$ be the distribution of all ground floor apartments, and let $H$ be the distribution of all apartments not on the ground floor\n",
    "\n",
    "$H_0: \\mu G - \\mu H = 0$\n",
    "\n",
    "$H_A: \\mu G < \\mu H$"
   ]
  },
  {
   "cell_type": "code",
   "execution_count": 27,
   "id": "e0a326a7",
   "metadata": {},
   "outputs": [
    {
     "data": {
      "text/plain": [
       "Ttest_indResult(statistic=-4.296635035600985, pvalue=2.1060094774727656e-05)"
      ]
     },
     "execution_count": 27,
     "metadata": {},
     "output_type": "execute_result"
    }
   ],
   "source": [
    "G = X_floors_data.loc[X_floors_data['floor'] < 2]\n",
    "H = X_floors_data.loc[X_floors_data['floor'] >= 2]\n",
    "G_price = G['sold_price']\n",
    "H_price = H['sold_price']\n",
    "# g_dist = qqplot_2samples(quantiles(G_price), gaussian(G_price), line='45')\n",
    "# h_dist = qqplot_2samples(quantiles(H_price), gaussian(H_price), line='45')\n",
    "# plt.show(g_dist, h_dist)\n",
    "\n",
    "mu_g = G_price.mean()\n",
    "mu_h = H_price.mean()\n",
    "mu_g, mu_h\n",
    "\n",
    "res = stats.ttest_ind(G_price, H_price, equal_var=False, random_state=42)\n",
    "res"
   ]
  },
  {
   "cell_type": "code",
   "execution_count": 28,
   "id": "00f8736a",
   "metadata": {},
   "outputs": [
    {
     "data": {
      "text/plain": [
       "Ttest_indResult(statistic=-4.296635035600985, pvalue=2.1060094774727656e-05)"
      ]
     },
     "execution_count": 28,
     "metadata": {},
     "output_type": "execute_result"
    }
   ],
   "source": [
    "mu_g = G_price.mean()\n",
    "mu_h = H_price.mean()\n",
    "mu_g, mu_h\n",
    "\n",
    "res = stats.ttest_ind(G_price, H_price, equal_var=False, random_state=42)\n",
    "res"
   ]
  },
  {
   "cell_type": "code",
   "execution_count": 29,
   "id": "53bcb7b8",
   "metadata": {},
   "outputs": [
    {
     "data": {
      "text/markdown": [
       "Given that $p < .05$ we can conclude that it is possible to **reject** the null hypothesis in favour of the alternative hypothesis, that the floor of an apartment is more expensive with a significance level of p = 0.00002106009477472766"
      ],
      "text/plain": [
       "<IPython.core.display.Markdown object>"
      ]
     },
     "execution_count": 29,
     "metadata": {},
     "output_type": "execute_result"
    }
   ],
   "source": [
    "p = res.pvalue\n",
    "s = f\"Given that $p < .05$ we can conclude that it is possible to **reject** the null hypothesis \"\\\n",
    "f\"in favour of the alternative hypothesis, that the floor of an apartment is more expensive with a \"\\\n",
    "f\"significance level of p = {p:.20f}\"\n",
    "Markdown(s)"
   ]
  },
  {
   "cell_type": "code",
   "execution_count": 30,
   "id": "ba545ae8",
   "metadata": {},
   "outputs": [
    {
     "name": "stdout",
     "output_type": "stream",
     "text": [
      "t -4.296635035600985\n",
      "df 473.12995661281275\n"
     ]
    }
   ],
   "source": [
    "def t(X, Y, c=0):\n",
    "    s_x2 = X.std() ** 2\n",
    "    s_y2 = Y.std() ** 2    \n",
    "    n_x = len(X)\n",
    "    n_y = len(Y)\n",
    "    \n",
    "    numerator = X.mean() - Y.mean() - c\n",
    "    denominator = math.sqrt(s_x2 / n_x + s_y2 /n_y)\n",
    "    \n",
    "    return numerator / denominator\n",
    "\n",
    "def df(X, Y):\n",
    "    s_x2 = X.std() ** 2\n",
    "    s_y2 = Y.std() ** 2\n",
    "    n_x = len(X)\n",
    "    n_y = len(Y)\n",
    "    \n",
    "    numerator = math.pow(s_x2 / n_x + s_y2 / n_y, 2)\n",
    "    denominator = ((s_x2 / n_x)  ** 2 / (n_x - 1) + (s_y2 / n_y)  ** 2 / (n_y - 1))\n",
    "    return numerator / denominator\n",
    "\n",
    "print('t', t(G_price, H_price))\n",
    "print('df', df(G_price, H_price))"
   ]
  },
  {
   "cell_type": "markdown",
   "id": "129cf1e9",
   "metadata": {},
   "source": [
    "### Testing hypothesis 1A\n",
    "\n",
    "Since we conclusively rejected the null hypothesis for hypothesis 1, we tested hypothesis 1A as a follow-up:\n",
    "\n",
    "Hypothesis 1 was defined as: *An apartment on the ground floor in a building without a lift will have a lower price than an equivalent apartment on a higher floor.*\n",
    "\n",
    "\n",
    "We define the null hypothesis $H_0$ and alternative hypothesis $H_A$ as follows:\n",
    "\n",
    "Let $G$ be the distribution of all ground floor apartments in buildings without a lift, and let $H$ be the distribution of all apartments not on the ground floor:\n",
    "\n",
    "$H_0: \\mu G - \\mu H = 0$\n",
    "\n",
    "$H_A: \\mu G < \\mu H$\n",
    "\n",
    "Let the significance level be $\\alpha = 0.05$."
   ]
  },
  {
   "cell_type": "code",
   "execution_count": 31,
   "id": "098a1e04",
   "metadata": {},
   "outputs": [
    {
     "data": {
      "text/plain": [
       "Ttest_indResult(statistic=-1.8663374291781474, pvalue=0.06282715097387886)"
      ]
     },
     "execution_count": 31,
     "metadata": {},
     "output_type": "execute_result"
    }
   ],
   "source": [
    "# Ensure that there are enough data and that they both follow a normal distribution\n",
    "G = X_floors_lift_data.loc[X_floors_lift_data['has_lift'] == 0].loc[X_floors_lift_data['floor'] < 2]\n",
    "H = X_floors_lift_data.loc[X_floors_lift_data['has_lift'] == 0].loc[X_floors_lift_data['floor'] >= 2]\n",
    "\n",
    "G_price = G['sold_price']\n",
    "H_price = H['sold_price']\n",
    "# g_dist = qqplot_2samples(quantiles(G['sold_price']), gaussian(G_price), line='45')\n",
    "# h_dist = qqplot_2samples(quantiles(G['sold_price']), gaussian(H_price), line='45')\n",
    "# plt.show(g_dist, h_dist)\n",
    "\n",
    "res = stats.ttest_ind(G_price, H_price, equal_var=False)\n",
    "res"
   ]
  },
  {
   "cell_type": "code",
   "execution_count": 32,
   "id": "44f41c0f",
   "metadata": {},
   "outputs": [
    {
     "data": {
      "text/plain": [
       "Ttest_indResult(statistic=-1.8663374291781474, pvalue=0.06282715097387886)"
      ]
     },
     "execution_count": 32,
     "metadata": {},
     "output_type": "execute_result"
    }
   ],
   "source": [
    "res = stats.ttest_ind(G_price, H_price, equal_var=False)\n",
    "res"
   ]
  },
  {
   "cell_type": "code",
   "execution_count": 33,
   "id": "26f27a3d",
   "metadata": {},
   "outputs": [
    {
     "data": {
      "text/plain": [
       "(2764500.0, 2971183.8006230528)"
      ]
     },
     "execution_count": 33,
     "metadata": {},
     "output_type": "execute_result"
    }
   ],
   "source": [
    "G_price.mean(), H_price.mean()"
   ]
  },
  {
   "cell_type": "code",
   "execution_count": 34,
   "id": "90ec76b5",
   "metadata": {},
   "outputs": [
    {
     "data": {
      "text/markdown": [
       "The t-test returned a result of $p = 0.06282715097387886$, which means it is not possible to reject $H_0$ in favour of $H_A$."
      ],
      "text/plain": [
       "<IPython.core.display.Markdown object>"
      ]
     },
     "execution_count": 34,
     "metadata": {},
     "output_type": "execute_result"
    }
   ],
   "source": [
    "s = f\"The t-test returned a result of $p = {res.pvalue}$, which means it is not possible to reject \"\\\n",
    "\"$H_0$ in favour of $H_A$.\"\n",
    "Markdown(s)"
   ]
  },
  {
   "cell_type": "markdown",
   "id": "ddec83ee",
   "metadata": {},
   "source": [
    "### Amount of rooms and living space\n",
    "\n",
    "Another intuition is that having more rooms for the apartment space is desirable in an apartment, and consequently apartments which are otherwise equivalent will be more expensive if they have more rooms.  This is an additional piece of information necessary for someone to have when purchasing a new apartment for the first time.  Therefore, hypothesis 2 will be:\n",
    "\n",
    "* **Hypothesis 2**: An apartment with more rooms will be more expensive than an otherwise equivalent apartment.\n",
    "\n",
    "Note that for this test the `scaled_price_sqm` is considered as a response variable rather than `sold_price_sqm`.  The reason for this was that the nature of different voting districts could influence the type of apartments which are built, thereby causing a different effect on the price.  For example, apartments in central Gothenburg are more expensive than Bifrost in Mölndal, but it is plausible that city centre apartments would be smaller due to the relative population density.  This was not been confirmed, but operated as a working assumption.\n",
    "\n",
    "\n",
    "The null hypothesis $H_0$ and alternative hypothesis $H_A$ were defined as follows:\n",
    "\n",
    "Let $G$ be the distribution of all apartments with 2 rooms, and let $H$ be the distribution of all apartments with 3 rooms.\n",
    "\n",
    "$H_0: \\mu G - \\mu H = 0$\n",
    "\n",
    "$H_A: \\mu G < \\mu H$"
   ]
  },
  {
   "cell_type": "code",
   "execution_count": 35,
   "id": "71f0d663",
   "metadata": {},
   "outputs": [
    {
     "data": {
      "image/png": "[encoded data removed]",
      "text/plain": [
       "<Figure size 432x288 with 1 Axes>"
      ]
     },
     "metadata": {},
     "output_type": "display_data"
    },
    {
     "data": {
      "image/png": "[encoded data removed]",
      "text/plain": [
       "<Figure size 432x288 with 1 Axes>"
      ]
     },
     "metadata": {},
     "output_type": "display_data"
    }
   ],
   "source": [
    "# data['scaled_price_sqm'] = data['scaled_price']\n",
    "X_2_room_data = data.loc[data['rooms'] == 2]\n",
    "X_3_room_data = data.loc[data['rooms'] == 3]\n",
    "\n",
    "G_price = X_2_room_data['scaled_price_sqm']\n",
    "H_price = X_3_room_data['scaled_price_sqm']\n",
    "g_dist = qqplot_2samples(quantiles(G_price), gaussian(G_price) , line='45')\n",
    "h_dist = qqplot_2samples(quantiles(H_price), gaussian(H_price) , line='45')\n",
    "plt.show(g_dist, h_dist)\n"
   ]
  },
  {
   "cell_type": "code",
   "execution_count": 36,
   "id": "46efd771",
   "metadata": {},
   "outputs": [
    {
     "data": {
      "text/plain": [
       "(51889.22383841071, 51049.30403736234)"
      ]
     },
     "execution_count": 36,
     "metadata": {},
     "output_type": "execute_result"
    }
   ],
   "source": [
    "G_price.mean(), H_price.mean()"
   ]
  },
  {
   "cell_type": "code",
   "execution_count": 37,
   "id": "0ceebccd",
   "metadata": {},
   "outputs": [
    {
     "data": {
      "text/plain": [
       "Ttest_indResult(statistic=2.478030513145915, pvalue=0.013336569568987001)"
      ]
     },
     "execution_count": 37,
     "metadata": {},
     "output_type": "execute_result"
    }
   ],
   "source": [
    "res = stats.ttest_ind(G_price, H_price, equal_var=False)\n",
    "res"
   ]
  },
  {
   "cell_type": "markdown",
   "id": "8cfb780c",
   "metadata": {},
   "source": [
    "In this case, it was possible to reject the null hypothesis, but not in favour of $H_A$ because $\\mu G > \\mu H$.  This was a really surprising result, which cannot immediately be explained."
   ]
  },
  {
   "cell_type": "markdown",
   "id": "da147754",
   "metadata": {},
   "source": [
    "## Split the data and test the distributions\n",
    "\n",
    "For the final consideration of the distributions, the data were split to be 80\\% train and 20\\% train using the standard sklearn train_test_split function.  To determine similarity between the two distributions quantiles based on the following three columns were used:\n",
    "\n",
    "* Rooms - As per conventions in Sweden, this is the amount of rooms in the apartment, excluding the kitchen and bathroom.\n",
    "* Living space - The size of the apartment in m$^2$\n",
    "* Avgift/m$^2$ - The monthly fee charged by the BRF to the owner every month per m$^2$"
   ]
  },
  {
   "cell_type": "code",
   "execution_count": 38,
   "id": "e8ce3b11",
   "metadata": {},
   "outputs": [
    {
     "data": {
      "image/png": "[encoded data removed]",
      "text/plain": [
       "<Figure size 432x288 with 1 Axes>"
      ]
     },
     "metadata": {},
     "output_type": "display_data"
    },
    {
     "data": {
      "image/png": "[encoded data removed]",
      "text/plain": [
       "<Figure size 432x288 with 1 Axes>"
      ]
     },
     "metadata": {},
     "output_type": "display_data"
    }
   ],
   "source": [
    "Y_full = data['scaled_price']\n",
    "\n",
    "X_train, X_test, Y_train, Y_test = train_test_split(data, Y_full, test_size=0.2, random_state=42)\n",
    "X_train = X_train.drop(columns=['scaled_price', 'scaled_price_sqm', 'sold_price'])\n",
    "X_test = X_test.drop(columns=['scaled_price', 'scaled_price_sqm', 'sold_price'])\n",
    "\n",
    "def comparison_quantiles(x1, x2):\n",
    "    x1_out = []\n",
    "    x2_out = []\n",
    "    for p in np.linspace(1, 99, num=100)*0.01:\n",
    "        x1_out.append(np.quantile(x1, p))\n",
    "        x2_out.append(np.quantile(x2, p))\n",
    "    return np.array(x1_out), np.array(x2_out)\n",
    "columns = ['living_space', 'rooms', 'avgift_sqm']\n",
    "X_train_columns = X_train[columns]\n",
    "X_test_columns = X_test[columns]\n",
    "\n",
    "X_train_quantiles, X_test_quantiles = comparison_quantiles(X_train_columns, X_test_columns)\n",
    "\n",
    "qqplot_x = qqplot_2samples(X_train_quantiles, X_test_quantiles, line='45', \n",
    "                       xlabel='Quantiles for X_train', ylabel='Quantiles for X_test')\n",
    "\n",
    "y_train_quantiles, y_test_quantiles = comparison_quantiles(Y_train, Y_test)\n",
    "qqplot_y = qqplot_2samples(y_train_quantiles, y_test_quantiles, line='45', \n",
    "                       xlabel='Quantiles for y_train', ylabel='Quantiles for y_test')"
   ]
  },
  {
   "cell_type": "markdown",
   "id": "9d70f17b",
   "metadata": {},
   "source": [
    "Comparing both the similarity between samples of both the predictor variables and response variables, the split of the data was clearly adequate."
   ]
  },
  {
   "cell_type": "markdown",
   "id": "890d9960",
   "metadata": {},
   "source": [
    "## Predictive analysis (7pts)\n",
    "* Apply two predictive machine learning models to solve your problem. You can use anything from [here](https://scikit-learn.org/stable/) or other libraries\n",
    "* For each model, state the following:\n",
    "    * What is the name of the model?\n",
    "    * What is the mathematical expression of the model?\n",
    "    * What are the hyperparameters?\n",
    "    * What are the parameters? \n",
    "    * A short description of how to estimate the parameters? \n",
    "* Evaluate their performance. Which one do you prefer and why?\n",
    "* Run the algorithm you prefer on the test data set and draw a conclusion.\n"
   ]
  },
  {
   "cell_type": "markdown",
   "id": "4675da00",
   "metadata": {},
   "source": [
    "The target output is a prediction of the sold price of a given apartment, scaled based on the voting district it is located in.  As the price is a real number rather than a categorical variable, this requires that we use regression models.  For this project we will use linear regression and regression decision trees.\n",
    "\n",
    "## Linear regression model\n",
    "\n",
    "A linear regression model in the general sense may be defined as\n",
    "\n",
    "$y = \\beta_0 + \\beta_1X_1 + ... + \\beta_pX_p$ where $\\beta_1$ is the intercept, $X$ is a feature vector, and $\\beta_1 ... \\beta_p$ are a series of weights associated with each feature in the model.\n",
    "\n",
    "For ordinary least squares regression, as used in this case, there are no hyperparameters.\n",
    "\n",
    "To begin, we naively use all features available from the dataset.  Afterwards, we refine the model in order to obtain the optimal outcome.\n",
    "\n",
    "In the sklearn linear regression model, the `model.score` method returns the $R^2$ score. $R^2$ is defined as\n",
    "$1 - \\frac{u}{v}$, where $u$ is the sum of squared error of the response variable, and $v$ is the overall error in the model.  $1$ is the best score, and $-1$  is the worst.  A score of less than $0$ means the model is worse than a mere constant line which does not account for any variables.  \n",
    "\n",
    "Although the $R^2$ scores is useful, the measure chosen instead was mean absolute error.  This is because it is possible to return a distribution using `sklearn.metrics` which can be used in hypothesis tests.  This was chosen rather than mean squared error (MSE) or root mean squared error (RMSE) because there is no need to punish bigger deviations.  Given that even a 1% error of the mean scaled price (3.3 million SEK) represents 33.000 SEK which is a significant sum of money."
   ]
  },
  {
   "cell_type": "markdown",
   "id": "d555ba75",
   "metadata": {},
   "source": [
    "### Feature selection\n",
    "\n",
    "Regression is a predictive model which can perform worse with the addition of extra input variables, so we need to be careful in selecting which features we will use.  For convenience, a copy of the first records in the dataset is reproduced:"
   ]
  },
  {
   "cell_type": "code",
   "execution_count": 39,
   "id": "8c81eab5",
   "metadata": {},
   "outputs": [
    {
     "data": {
      "text/html": [
       "<div>\n",
       "<style scoped>\n",
       "    .dataframe tbody tr th:only-of-type {\n",
       "        vertical-align: middle;\n",
       "    }\n",
       "\n",
       "    .dataframe tbody tr th {\n",
       "        vertical-align: top;\n",
       "    }\n",
       "\n",
       "    .dataframe thead th {\n",
       "        text-align: right;\n",
       "    }\n",
       "</style>\n",
       "<table border=\"1\" class=\"dataframe\">\n",
       "  <thead>\n",
       "    <tr style=\"text-align: right;\">\n",
       "      <th></th>\n",
       "      <th>rooms</th>\n",
       "      <th>living_space</th>\n",
       "      <th>has_balcony</th>\n",
       "      <th>floor</th>\n",
       "      <th>avgift</th>\n",
       "      <th>driftskostnad</th>\n",
       "      <th>built</th>\n",
       "      <th>has_lift</th>\n",
       "      <th>avgift_sqm</th>\n",
       "      <th>sold_price_sqm</th>\n",
       "      <th>cost_per_month</th>\n",
       "      <th>cost_per_sqm</th>\n",
       "    </tr>\n",
       "  </thead>\n",
       "  <tbody>\n",
       "    <tr>\n",
       "      <th>1179</th>\n",
       "      <td>2.0</td>\n",
       "      <td>61.0</td>\n",
       "      <td>1.0</td>\n",
       "      <td>2.0</td>\n",
       "      <td>3632.0</td>\n",
       "      <td>6300.0</td>\n",
       "      <td>1947</td>\n",
       "      <td>0</td>\n",
       "      <td>59.540984</td>\n",
       "      <td>40163.934426</td>\n",
       "      <td>4157.00</td>\n",
       "      <td>68.147541</td>\n",
       "    </tr>\n",
       "    <tr>\n",
       "      <th>945</th>\n",
       "      <td>4.0</td>\n",
       "      <td>205.0</td>\n",
       "      <td>1.0</td>\n",
       "      <td>5.0</td>\n",
       "      <td>8203.0</td>\n",
       "      <td>5880.0</td>\n",
       "      <td>1888</td>\n",
       "      <td>1</td>\n",
       "      <td>40.014634</td>\n",
       "      <td>65121.951220</td>\n",
       "      <td>8693.00</td>\n",
       "      <td>42.404878</td>\n",
       "    </tr>\n",
       "    <tr>\n",
       "      <th>213</th>\n",
       "      <td>4.0</td>\n",
       "      <td>83.0</td>\n",
       "      <td>1.0</td>\n",
       "      <td>2.0</td>\n",
       "      <td>4182.0</td>\n",
       "      <td>5421.0</td>\n",
       "      <td>2012</td>\n",
       "      <td>1</td>\n",
       "      <td>50.385542</td>\n",
       "      <td>50602.409639</td>\n",
       "      <td>4633.75</td>\n",
       "      <td>55.828313</td>\n",
       "    </tr>\n",
       "    <tr>\n",
       "      <th>1995</th>\n",
       "      <td>2.0</td>\n",
       "      <td>42.0</td>\n",
       "      <td>False</td>\n",
       "      <td>1.0</td>\n",
       "      <td>2627.0</td>\n",
       "      <td>1800.0</td>\n",
       "      <td>1933</td>\n",
       "      <td>0</td>\n",
       "      <td>62.547619</td>\n",
       "      <td>63095.238095</td>\n",
       "      <td>2777.00</td>\n",
       "      <td>66.119048</td>\n",
       "    </tr>\n",
       "    <tr>\n",
       "      <th>1716</th>\n",
       "      <td>3.0</td>\n",
       "      <td>73.0</td>\n",
       "      <td>1.0</td>\n",
       "      <td>1.0</td>\n",
       "      <td>4529.0</td>\n",
       "      <td>6600.0</td>\n",
       "      <td>1965</td>\n",
       "      <td>0</td>\n",
       "      <td>62.041096</td>\n",
       "      <td>41095.890411</td>\n",
       "      <td>5079.00</td>\n",
       "      <td>69.575342</td>\n",
       "    </tr>\n",
       "  </tbody>\n",
       "</table>\n",
       "</div>"
      ],
      "text/plain": [
       "      rooms  living_space has_balcony  floor  avgift  driftskostnad  built  \\\n",
       "1179    2.0          61.0         1.0    2.0  3632.0         6300.0   1947   \n",
       "945     4.0         205.0         1.0    5.0  8203.0         5880.0   1888   \n",
       "213     4.0          83.0         1.0    2.0  4182.0         5421.0   2012   \n",
       "1995    2.0          42.0       False    1.0  2627.0         1800.0   1933   \n",
       "1716    3.0          73.0         1.0    1.0  4529.0         6600.0   1965   \n",
       "\n",
       "      has_lift  avgift_sqm  sold_price_sqm  cost_per_month  cost_per_sqm  \n",
       "1179         0   59.540984    40163.934426         4157.00     68.147541  \n",
       "945          1   40.014634    65121.951220         8693.00     42.404878  \n",
       "213          1   50.385542    50602.409639         4633.75     55.828313  \n",
       "1995         0   62.547619    63095.238095         2777.00     66.119048  \n",
       "1716         0   62.041096    41095.890411         5079.00     69.575342  "
      ]
     },
     "execution_count": 39,
     "metadata": {},
     "output_type": "execute_result"
    }
   ],
   "source": [
    "X_train.head()"
   ]
  },
  {
   "cell_type": "markdown",
   "id": "33345b61",
   "metadata": {},
   "source": [
    "Out of these data, some will clearly not be included as features.  The id and address, whilst useful for reference, will have no impact on the result and so will not be included.  The `valdistrikt` (voting district) will also not be used, since it has already been used in the calculation of the scaled price, and there are too many unique values for it to be statistically valid.\n",
    "\n"
   ]
  },
  {
   "cell_type": "markdown",
   "id": "1d75ac0b",
   "metadata": {},
   "source": [
    "### Dependence between predictors and response variables\n",
    "\n",
    "In the section on descriptive analysis, a heatmap was analysed indicating that there were no strong predictors between the predictor variables and the response variable.  This is quantified in the chart below, which uses the mutual information metric to determine the relevance."
   ]
  },
  {
   "cell_type": "code",
   "execution_count": 40,
   "id": "0b784c07",
   "metadata": {},
   "outputs": [
    {
     "data": {
      "image/png": "[encoded data removed]",
      "text/plain": [
       "<Figure size 432x288 with 1 Axes>"
      ]
     },
     "metadata": {},
     "output_type": "display_data"
    }
   ],
   "source": [
    "discrete_features = [0, 2, 3, 6, 7]\n",
    "mir = mutual_info_regression(X_train, Y_train, discrete_features=discrete_features)\n",
    "fig = plt.bar([c for c in X_train.columns], mir)\n",
    "plt.xticks(rotation=90)\n",
    "plt.show()"
   ]
  },
  {
   "cell_type": "markdown",
   "id": "1794e81c",
   "metadata": {},
   "source": [
    "### Parameter tuning\n",
    "\n",
    "In the following section, we iteratively improve the model using recursive feature elimination with repeated stratified k-fold split on X_test.  As it has already been determined that some of the features suffer from collinearity, we will seek to optimise for different sets of starting features."
   ]
  },
  {
   "cell_type": "code",
   "execution_count": 41,
   "id": "00305c15",
   "metadata": {},
   "outputs": [],
   "source": [
    "from sklearn.datasets import make_classification\n",
    "from sklearn.model_selection import cross_val_score\n",
    "from sklearn.model_selection import RepeatedKFold\n",
    "from sklearn.feature_selection import RFE, RFECV\n",
    "from sklearn.tree import DecisionTreeRegressor\n",
    "from sklearn.pipeline import Pipeline"
   ]
  },
  {
   "cell_type": "code",
   "execution_count": 42,
   "id": "917587cb",
   "metadata": {},
   "outputs": [],
   "source": [
    "# Model with a different amount of parameters\n",
    "def get_models(X, estimator=LinearRegression):\n",
    "    models = []\n",
    "    for i in range(1, len(X.columns)):\n",
    "        rfe = RFE(estimator=estimator(), n_features_to_select=i)\n",
    "        model = estimator()\n",
    "        models.append(Pipeline(steps=[('s', rfe), ('m', model)]))\n",
    "    return models\n",
    "\n",
    "def evaluate(X, y, features, models):\n",
    "    scores = []\n",
    "    for i, m in enumerate(models):\n",
    "        X_i_train, X_i_test, y_i_train, y_i_test = train_test_split(X[features], y, random_state=i)\n",
    "        m.fit(X_i_train, y_i_train)\n",
    "        y_i_pred = m.predict(X_i_test)\n",
    "        score = mean_absolute_error(y_i_test, y_i_pred)\n",
    "        scores.append(score)\n",
    "    return models, scores\n",
    "\n",
    "def test(X_train, y_train, X_test, y_test, features, model_class=LinearRegression):\n",
    "    \"\"\"Tests the best model on the test data\n",
    "    \n",
    "    :return: A tuple of MAE score (low is good), and an array of the AE for each item\n",
    "    \"\"\"\n",
    "    model = model_class()\n",
    "    model.fit(X_train[features], y_train)\n",
    "    Y_pred = model.predict(X_test[features])\n",
    "       \n",
    "    \n",
    "    return mean_absolute_error(Y_test, Y_pred), np.abs(Y_test - Y_pred)\n",
    "    "
   ]
  },
  {
   "cell_type": "code",
   "execution_count": 43,
   "id": "befeb46e",
   "metadata": {},
   "outputs": [],
   "source": [
    "def best_rfe(models, scores):\n",
    "    best = scores.index(min(scores))\n",
    "    return models[best].steps[0][1], min(scores)"
   ]
  },
  {
   "cell_type": "code",
   "execution_count": 44,
   "id": "8bc0ef22",
   "metadata": {},
   "outputs": [
    {
     "data": {
      "text/plain": [
       "array(['rooms', 'living_space', 'has_balcony', 'floor', 'has_lift',\n",
       "       'avgift_sqm', 'has_balcony', 'built'], dtype=object)"
      ]
     },
     "execution_count": 44,
     "metadata": {},
     "output_type": "execute_result"
    }
   ],
   "source": [
    "features = ['rooms', 'living_space', 'has_balcony', 'floor', 'avgift', 'driftskostnad','has_lift', 'avgift_sqm', \n",
    "            'has_balcony', 'built']\n",
    "models_0 = get_models(X_train[features])\n",
    "models_0, scores_0 = evaluate(X_train, Y_train, features, models_0)    \n",
    "\n",
    "best_0, _ = best_rfe(models_0, scores_0)\n",
    "# vars(models_0[1])['steps'][0][1].support_\n",
    "best_0_test = test(X_train, Y_train, X_test, Y_test, best_0.feature_names_in_[best_0.get_support()])\n",
    "best_0.feature_names_in_[best_0.support_]"
   ]
  },
  {
   "cell_type": "code",
   "execution_count": 45,
   "id": "86a9987e",
   "metadata": {},
   "outputs": [
    {
     "data": {
      "text/plain": [
       "array(['rooms', 'living_space', 'has_balcony', 'floor', 'has_lift',\n",
       "       'cost_per_sqm', 'has_balcony', 'built'], dtype=object)"
      ]
     },
     "execution_count": 45,
     "metadata": {},
     "output_type": "execute_result"
    }
   ],
   "source": [
    "features = ['rooms', 'living_space', 'has_balcony', 'floor', 'has_lift', 'cost_per_month', 'cost_per_sqm', \n",
    "            'has_balcony', 'built']\n",
    "models_1 = get_models(X_train[features])\n",
    "models_1, scores_1 = evaluate(X_train, Y_train, features, models_1)    \n",
    "best_1, _ = best_rfe(models_1, scores_1)\n",
    "best_1_test = test(X_train, Y_train, X_test, Y_test, best_1.feature_names_in_[best_1.get_support()])\n",
    "best_1.feature_names_in_[best_1.support_]"
   ]
  },
  {
   "cell_type": "code",
   "execution_count": 46,
   "id": "579aaf04",
   "metadata": {},
   "outputs": [
    {
     "data": {
      "text/plain": [
       "array(['rooms', 'has_balcony', 'floor', 'has_lift', 'cost_per_month',\n",
       "       'cost_per_sqm', 'has_balcony'], dtype=object)"
      ]
     },
     "execution_count": 46,
     "metadata": {},
     "output_type": "execute_result"
    }
   ],
   "source": [
    "features = ['rooms', 'has_balcony', 'floor', 'has_lift', 'cost_per_month', 'cost_per_sqm', \n",
    "            'has_balcony', 'built']\n",
    "models_2 = get_models(X_train[features])\n",
    "models_2, scores_2 = evaluate(X_train, Y_train, features, models_2)    \n",
    "best_2, _ = best_rfe(models_2, scores_2)\n",
    "\n",
    "best_2_test = test(X_train, Y_train, X_test, Y_test, best_2.feature_names_in_[best_2.get_support()])\n",
    "best_2.feature_names_in_[best_2.support_]"
   ]
  },
  {
   "cell_type": "code",
   "execution_count": 47,
   "id": "2f9d0808",
   "metadata": {},
   "outputs": [
    {
     "data": {
      "text/plain": [
       "array(['living_space', 'has_lift', 'has_balcony'], dtype=object)"
      ]
     },
     "execution_count": 47,
     "metadata": {},
     "output_type": "execute_result"
    }
   ],
   "source": [
    "features = ['living_space', 'has_balcony', 'floor', 'has_lift', 'cost_per_month', 'cost_per_sqm', \n",
    "            'has_balcony', 'built']\n",
    "\n",
    "models_3 = get_models(X_train[features])\n",
    "models_3, scores_3 = evaluate(X_train, Y_train, features, models_3)    \n",
    "best_3, _ = best_rfe(models_3, scores_3)\n",
    "best_3_test = test(X_train, Y_train, X_test, Y_test, best_3.feature_names_in_[best_3.get_support()])\n",
    "best_3.feature_names_in_[best_3.support_]"
   ]
  },
  {
   "cell_type": "code",
   "execution_count": 48,
   "id": "3adfeaaf",
   "metadata": {},
   "outputs": [
    {
     "data": {
      "text/plain": [
       "[303602.34277652024, 303053.4050044731, 353281.88034380024, 307220.1440512291]"
      ]
     },
     "execution_count": 48,
     "metadata": {},
     "output_type": "execute_result"
    }
   ],
   "source": [
    "linear_regression_results = [best_0_test[0], best_1_test[0], best_2_test[0], best_3_test[0]]\n",
    "linear_regression_results"
   ]
  },
  {
   "cell_type": "markdown",
   "id": "fd41ca3e",
   "metadata": {},
   "source": [
    "The results show that there is very little difference between the tuned parameters aside from the third estimation which excluded the living space as it predicts the amount of rooms.  Since this feature is the clear best, this is an unsurprising result.  As the second and fourth iteration are largely the same, and the fourth has fewer parameters, a hypothesis test was performed to determine whether there was any significant difference.\n",
    "\n",
    "Let $G$ be the distribution of absolute errors of the model $M_0$ which ran with 8 features: `'rooms', 'living_space', 'has_balcony', 'floor', 'has_lift', 'avgift_sqm', 'has_balcony', 'built'` represented by the variable `best_0`\n",
    "\n",
    "Let $H$ be the distribution of absolute errors of the model $M_1$ which ran with 3 features `'living_space', 'has_lift', 'has_balcony'` represented by the variable `best_3`.\n",
    "\n",
    "If $M_0$ is superior with significance $p < .05$, this model will be selected, otherwise $M_1$ will be selected\n",
    "\n",
    "$H_0: \\mu G - \\mu H = 0$ \n",
    "\n",
    "$H_0: \\mu G - \\mu H < 0$ "
   ]
  },
  {
   "cell_type": "code",
   "execution_count": 49,
   "id": "38253f45",
   "metadata": {},
   "outputs": [
    {
     "data": {
      "text/plain": [
       "Ttest_relResult(statistic=-0.7476524216845079, pvalue=0.45512862691030886)"
      ]
     },
     "execution_count": 49,
     "metadata": {},
     "output_type": "execute_result"
    }
   ],
   "source": [
    "stats.ttest_rel(best_0_test[1], best_3_test[1])"
   ]
  },
  {
   "cell_type": "markdown",
   "id": "8e8ed28a",
   "metadata": {},
   "source": [
    "Since it is not possible to reject the null hypothesis, $M_1$ was selected as the optimal for linear regression on the dataset.\n",
    "\n",
    "The model $M_1$ predicts $\\hat y$ with the following values:"
   ]
  },
  {
   "cell_type": "code",
   "execution_count": 50,
   "id": "5615c4e2",
   "metadata": {},
   "outputs": [
    {
     "data": {
      "text/markdown": [
       "Let Let $X_1$ be living space in sqm, $X_2$ be has lift and $X_3$ be has balcony. The linear regression model is defined as:\n",
       "\n",
       "$y = 380971.86265609134 + 44205.97852594123X_1 + 73635.68631855433X_2 + 67879.74314197013X_3$"
      ],
      "text/plain": [
       "<IPython.core.display.Markdown object>"
      ]
     },
     "execution_count": 50,
     "metadata": {},
     "output_type": "execute_result"
    }
   ],
   "source": [
    "model = best_3.estimator.fit(X_train[best_3.feature_names_in_[best_3.get_support()]], Y_train)\n",
    "best_3.feature_names_in_[best_3.get_support()], model.coef_, \n",
    "\n",
    "s = f\"Let Let $X_1$ be living space in sqm, $X_2$ be has lift and $X_3$ be has balcony. The linear \" \\\n",
    "\"regression model is defined as:\\n\\n\" \\\n",
    "f\"$y = {model.intercept_} + {model.coef_[0]}X_1 + {model.coef_[1]}X_2 + {model.coef_[2]}X_3$\"\n",
    "Markdown(s)"
   ]
  },
  {
   "cell_type": "markdown",
   "id": "fc18f2d6",
   "metadata": {},
   "source": [
    "## Decision tree regression\n",
    "\n",
    "The alternative model to test on the data is to use a regression decision forest.  For the feature selection in the decision forest the inbuilt parameter estimation CART algorithm scoring using squared error criterion.  However, unlike linear regression there are hyperparameters to the model which need to be considered.  To discover the optimal hyperparameters, an exhaustive grid search was used on the decision tree hyperparameters, which can be seen in the function below.\n",
    "\n",
    "The forest used the default sklearn of 100 trees.  In future work, this will be analysed as well."
   ]
  },
  {
   "cell_type": "code",
   "execution_count": 51,
   "id": "58549d40",
   "metadata": {},
   "outputs": [],
   "source": [
    "def tune_hyperparameters(X, y, features):\n",
    "    param_grid = {\n",
    "        'max_depth': [4, 8, 16, 32, None],\n",
    "        'min_samples_split': [2, 4, 8, 16],\n",
    "        'min_samples_leaf': [1, 2, 4, 8],\n",
    "        'max_features': [i for i in range(2, len(features) + 1)]\n",
    "    }\n",
    "    base_estimator = RandomForestRegressor()\n",
    "\n",
    "    clf = GridSearchCV(estimator=base_estimator, param_grid=param_grid, n_jobs=-1)\n",
    "    clf.fit(X[features], y)\n",
    "    return clf"
   ]
  },
  {
   "cell_type": "code",
   "execution_count": 52,
   "id": "c016eb6d",
   "metadata": {},
   "outputs": [],
   "source": [
    "features = ['rooms', 'living_space', 'has_balcony', 'floor', 'avgift', 'driftskostnad','has_lift', 'avgift_sqm', \n",
    "            'has_balcony', 'built']\n",
    "\n",
    "best_model = tune_hyperparameters(X_train, Y_train, features)"
   ]
  },
  {
   "cell_type": "code",
   "execution_count": 53,
   "id": "2b0dd347",
   "metadata": {},
   "outputs": [],
   "source": [
    "y_pred = best_model.best_estimator_.predict(X_test[features])\n",
    "decision_forest_error = mean_absolute_error(Y_test, y_pred)\n",
    "decision_forest_ae_array = np.abs(Y_test - y_pred)\n",
    "# decision_forest_ae_array\n"
   ]
  },
  {
   "cell_type": "markdown",
   "id": "9caedd57",
   "metadata": {},
   "source": [
    "## Comparison of linear regression and decision tree regression\n",
    "\n",
    "For this section, a paired t-test was performed on the squared error of each prediction by both models.  Recall that this means that the lower value is the better performing model.\n",
    "\n",
    "The null hypothesis stated:\n",
    "\n",
    "Let $L$ be the distribution of the absolute errors in the linear regression model, and let $D$ be the distribution of the absolute errors in the decision forest model.\n",
    "\n",
    "$H_0: \\mu L = \\mu D$\n",
    "\n",
    "The alternative hypothesis stated that:\n",
    "\n",
    "$H_A: \\mu D < \\mu L$"
   ]
  },
  {
   "cell_type": "code",
   "execution_count": 54,
   "id": "1d0f8fda",
   "metadata": {},
   "outputs": [
    {
     "data": {
      "text/markdown": [
       "The unweighted mean of the absolute errors was: 303602.34277652024 for the linear regression model and 290312.84334175196 for the decision forest"
      ],
      "text/plain": [
       "<IPython.core.display.Markdown object>"
      ]
     },
     "execution_count": 54,
     "metadata": {},
     "output_type": "execute_result"
    }
   ],
   "source": [
    "s = f\"The unweighted mean of the absolute errors was: {best_0_test[0]} \"\\\n",
    "f\"for the linear regression model and {decision_forest_error} for the decision forest\"\n",
    "Markdown(s)"
   ]
  },
  {
   "cell_type": "code",
   "execution_count": 55,
   "id": "f1de5f11",
   "metadata": {},
   "outputs": [
    {
     "data": {
      "text/plain": [
       "Ttest_relResult(statistic=1.9713033171745502, pvalue=0.04940865400271425)"
      ]
     },
     "execution_count": 55,
     "metadata": {},
     "output_type": "execute_result"
    }
   ],
   "source": [
    "stats.ttest_rel(best_0_test[1], decision_forest_ae_array)"
   ]
  },
  {
   "cell_type": "markdown",
   "id": "6b445784",
   "metadata": {},
   "source": [
    "The result failed to reject the null hypothesis, and had $p = 0.12$, so there is no significant difference between the two models.  Although the decision forest performed slightly better, the grid search in hyperparameter estimation made the run-time siginificantly longer than for linear regression.  Whilst this can be optimised, and is only a one-off operation, this suggests that using linear regression would be slightly preferable."
   ]
  },
  {
   "cell_type": "markdown",
   "id": "405a7573",
   "metadata": {},
   "source": [
    "## Conclusion (1 pts)\n",
    "\n",
    "* State again your problem and the motivation. \n",
    "* Draw a conclusion from the project. \n",
    "* If you keep working on this project, what would be the next step?   \n"
   ]
  },
  {
   "cell_type": "markdown",
   "id": "d3f67fd6",
   "metadata": {},
   "source": [
    "Recall from section 1 that the project definition was:\n",
    "\n",
    "*This project uses a dataset of historical apartment purchases from hemnet.se to assist first time buyers with limited information predict the true value of a property in Gothenburg and Mölndal municipalities based on different characteristics of the property*\n",
    "\n",
    "As well as the descriptive analysis, there were two substantial parts to the research.  The first was the investigation as to the effect of an apartment's floor on the price, and the second was the predictive analysis for predicting an apartment based on its location and a variety of other factor.\n",
    "\n",
    "## Discussion\n",
    "\n",
    "The hypothesis tests came with the caveat that the assumption of a Gaussian distribution is violated, and as such the results should be treated with caution.  It confirmed what one might think intuitively, that a ground floor apartment is not as good as an apartment on a higher floor where there is a lift, but where there is not known to be a lift the price difference is not significant.  The other hypothesis test produced an unexpected result, that the apartments with two rooms are significantly more expensive (relatively) than the ones with three apartments despite being scaled.  There is no explanation, so the assumptions will need to be fundamentally reconsidered for this test.\n",
    "\n",
    "In retrospect the models were never likely to provide the accuracy or predictive power necessary, and despite performing fairly well with very few features are not accurate enough for any production use.  That the decision forest performed comparably to the linear regression model was surprising, but possibly it illustrates the extent to which the living space feature (along with the voting district) dominated the estimation.\n",
    "\n",
    "## Future work\n",
    "\n",
    "There are several things which could be done to potentially improve the performance of the models in the future.  \n",
    "\n",
    "Firstly, some of the variables could have been used better in the model. For example, it may have been better to have modified the build year of the apartments into categories so that there would have been a greater amount in each category and so could have helped to improve prediction in that way.  This may already have been done in the decision tree model.\n",
    "\n",
    "Secondly, the effects of collinearity on both regression models were not explored fully.  Despite the relations between the predictor variables, it did not appear to make much of a difference (even on the test data) which were included.  This should be more thoroughly investigated to discover the effect it had on performance.\n",
    "\n",
    "Gathering more data is also (always!) desirable, and would arguably have made some of the analysis more statistically valid.  This may require going further back in time, which would require additional effort to standardise prices over time which may complicate the analysis.  Also, although most of the distributions which were analysed approximated Gaussian distributions, they were not perfect, so conducting non-parametric tests may also yield better results."
   ]
  }
 ],
 "metadata": {
  "kernelspec": {
   "display_name": "Python 3 (ipykernel)",
   "language": "python",
   "name": "python3"
  },
  "language_info": {
   "codemirror_mode": {
    "name": "ipython",
    "version": 3
   },
   "file_extension": ".py",
   "mimetype": "text/x-python",
   "name": "python",
   "nbconvert_exporter": "python",
   "pygments_lexer": "ipython3",
   "version": "3.9.7"
  }
 },
 "nbformat": 4,
 "nbformat_minor": 5
}
